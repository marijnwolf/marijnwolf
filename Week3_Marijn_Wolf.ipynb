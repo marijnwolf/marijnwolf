{
  "nbformat": 4,
  "nbformat_minor": 0,
  "metadata": {
    "colab": {
      "name": "Week3-Marijn Wolf",
      "provenance": [],
      "collapsed_sections": [],
      "authorship_tag": "ABX9TyO0E1NTinjjVjBXE6LUQ7r2",
      "include_colab_link": true
    },
    "kernelspec": {
      "name": "python3",
      "display_name": "Python 3"
    }
  },
  "cells": [
    {
      "cell_type": "markdown",
      "metadata": {
        "id": "view-in-github",
        "colab_type": "text"
      },
      "source": [
        "<a href=\"https://colab.research.google.com/github/marijnwolf/marijnwolf/blob/master/Week3_Marijn_Wolf.ipynb\" target=\"_parent\"><img src=\"https://colab.research.google.com/assets/colab-badge.svg\" alt=\"Open In Colab\"/></a>"
      ]
    },
    {
      "cell_type": "markdown",
      "metadata": {
        "id": "O60oTNKbgXZs",
        "colab_type": "text"
      },
      "source": [
        "### Fisher Matrix Code\n",
        "\n",
        "First of all i will define all the variables and functions given by paper arXiv:gr-qc/04111464v4. Then I will define all the functions that are needed to compute the derivative of the waveform function h. \n"
      ]
    },
    {
      "cell_type": "code",
      "metadata": {
        "id": "T3osUrHpgS4s",
        "colab_type": "code",
        "outputId": "0903c65b-4f90-4c2f-b794-9d5e9aed72a2",
        "colab": {
          "base_uri": "https://localhost:8080/",
          "height": 70
        }
      },
      "source": [
        "###############import necassary stuff####################################\n",
        "!pip install numpy\n",
        "!pip install sympy\n",
        "from math import *\n",
        "from numpy import *\n",
        "from sympy import *\n",
        "from scipy import *\n",
        "import matplotlib.pyplot as plt\n",
        "from scipy.special import *\n",
        "from scipy.integrate import *\n",
        "\n",
        "#################### Defining variables ########################\n",
        "\n",
        "\n",
        "\n",
        "## masses of black holes (arbatrary)\n",
        "M_1 = 10**40            #mass of first object\n",
        "M_2 = 10**41            #mass of second object\n",
        "M_tot = M_1 + M_2       # total mass\n",
        "\n",
        "## cutoff frequencies of Ligo detector (given in paper)\n",
        "f_upper = pow((pow(6,(3/2))*pi*M_tot), -1) # higher cutoff frequency, Hz\n",
        "f_lower = 40.0 # lower cutoff frequency, Hz\n",
        "\n",
        "#### Natural constants\n",
        "c = 2.998*10**8    # speed of light  (m/s)\n",
        "G = 6.67*10**-11    # gravitational constant (m^3/kg/s^2 )\n",
        "\n",
        "\n",
        "\n",
        "t_c =  1     #time of collision (value in this case is not important)\n",
        "phi_c = 1    #phase             (value in this case is not important)\n",
        "eta = (M_1 * M_2)/pow(M_tot, 2) # the dimensionless mass ratio\n",
        "Mchirp = eta**(3/5)*M_tot     # kg\n",
        "def v (M_tot, f):\n",
        " pow((pi*M_tot*f), (1/3)) # velocity\n",
        "\n",
        "\n",
        "## alphas: not all are used later because would only result in a bit more accurary and a lot more complexity \n",
        "a_0 = 1.0\n",
        "a_1 = 0.0\n",
        "a_2 = (20/9) * ((743/336) + (11/4)*eta)\n",
        "a_3 = -16*pi\n",
        "a_4 = 10*((3058673/1016064) + (5429/1008)*eta +(617/144)*pow(eta, 2) )\n",
        "\n",
        "\n",
        "SNR = 10.0              #a measure of how overall strong the gravitational wave is compared to the noise\n",
        "\n",
        "## Defining for Power Spectral Density S(f) for Ligo\n",
        "f_0 = 150               #(a scaling frequency given by paper (Hz)\n",
        "S_0 = 9 * pow(10, -46)  # Hz\n",
        "\n",
        "\n"
      ],
      "execution_count": 1,
      "outputs": [
        {
          "output_type": "stream",
          "text": [
            "Requirement already satisfied: numpy in /usr/local/lib/python3.6/dist-packages (1.17.5)\n",
            "Requirement already satisfied: sympy in /usr/local/lib/python3.6/dist-packages (1.1.1)\n",
            "Requirement already satisfied: mpmath>=0.19 in /usr/local/lib/python3.6/dist-packages (from sympy) (1.1.0)\n"
          ],
          "name": "stdout"
        }
      ]
    },
    {
      "cell_type": "code",
      "metadata": {
        "id": "3ZIdOTUwcNHU",
        "colab_type": "code",
        "colab": {}
      },
      "source": [
        "############################# Defining functions\n",
        "from scipy import integrate\n",
        "\n",
        "def x (f, f_0):                 \n",
        "  return f/f_0\n",
        "##print (x(column_1, f_0)) (just for testing purposes)\n",
        "\n",
        "def psi (f, t_c, phi_c, eta, M_tot ):  # unitless  (phase radians)\n",
        " return (2 * pi * f * t_c - phi_c - (pi/4) + (3/(128 * eta * pow(v(M_tot, f), 5))) + 1) \n",
        "##print (psi (10000, t_c, phi_c, eta, M_tot )) (just for testing purposes)\n",
        "\n",
        "def S (S_0, x):                 #The initial LIGO noise curve\n",
        " return S_0*((4.49*x)**-56 + (0.16*x)**-4.52 + 0.52 + 0.32*x*x)\n",
        "## print (S(S_0,5)) (just for testing purposes)\n",
        "\n",
        "\n",
        "def A (SNR, f, S, S_0, x, f_lower, f_upper):  # Defining A as given in document\n",
        " integral = integrate.quad(lambda f: (f**(-7/6)/S(S_0, x)), f_lower, f_upper)\n",
        " return sqrt(SNR/(4*integral)) \n",
        "## print(A(SNR, 100, S, S_0, x, f_lower, f_upper))  (just for testing purposes)\n",
        "\n",
        "def h (A, psi):                 # Fourier domain waveform\n",
        "  return A * pow(f, (-7/6)) * pow(math.e, (math.i * psi))\n",
        "\n",
        "\n",
        "def hlong (A, M_tot, eta, phi_c, t_c) :  # Same waveform formula but extende so that parameters now correspond to var for later derivation\n",
        "  return A * pow(f, (-7/6)) * pow(math.e, (math.i * ((2 * math.pi * f * t_c - phi_c - (math.pi/4) + (3/(128 * eta * pow(v(M_tot, f), 5))) + 1)))) "
      ],
      "execution_count": 0,
      "outputs": []
    },
    {
      "cell_type": "code",
      "metadata": {
        "id": "c9H2dYUDyteM",
        "colab_type": "code",
        "colab": {
          "base_uri": "https://localhost:8080/",
          "height": 459
        },
        "outputId": "639557e2-df65-47c2-bb38-14347835e45b"
      },
      "source": [
        "##############################   Fisher Matrix\n",
        "\n",
        "\n",
        "#### unfortunatly i am not sure why the sympy way of derivation gives so many errors\n",
        "## I was not able to figure out this crucial step.....\n",
        "\n",
        "from scipy import integrate\n",
        "import sympy as sympy ## idk but otherwise sympy didnt work...\n",
        "\n",
        "\n",
        "\n",
        "  ##### First define the parameters on which the waveform function is going to be derived in an array\n",
        "var = [t_c, phi_c, eta, M_tot]\n",
        "\n",
        "\n",
        "###defining partial derivatives (with help of sympy package)\n",
        "\n",
        "t_c, phi_c, eta, M_tot = sympy.symbols('t_c, phic_c, eta, M_tot') ##define variables as symbols all at once\n",
        "\n",
        "PartDeriv_t_c = sympy.diff(hlong, t_c)\n",
        "PartDeriv_phi_c = sympy.diff(hlong, phi_c)\n",
        "PartDeriv_eta = sympy.diff(hlong, eta)\n",
        "PartDeriv_M_tot = sympy.diff(hlong, M_tot)\n",
        "\n",
        "PartDeriv_arr = [PartDeriv_t_c, PartDeriv_phi_c, PartDeriv_eta, PartDeriv_M_tot]\n",
        "\n",
        "##defining numerator of fisher formula, which is a 4x4 array\n",
        "diffs = PartDeriv_arr * PartDeriv_arr\n",
        "\n",
        "###  fisher matrix outcome (does not work unfortunatly)\n",
        "matrixf = []\n",
        "def fisher ():\n",
        "    matrixf = 4 * (integrate.quad(lambda f:((diffs)/S), f_upper, f_lower ))\n",
        "    print(matrixf)\n",
        "    print (type(matrixf))\n",
        "    return matrixf\n",
        "\n",
        "fisher()\n",
        "\n",
        "\n",
        "############## Invert Fisher matrix (does not work because troubles earlier, but this is how i would do it if working)\n",
        "from numpy.linalg import inv\n",
        "invert = inv(np.matrix(matrixf))\n",
        "\n",
        "\n",
        "############## take diagonal elements of Fisher matrix\n",
        "diagonals = np.diagonal(matrixf)\n",
        "sqrdiag = np.sqrt(diagonals) ## square root of diagonals\n"
      ],
      "execution_count": 3,
      "outputs": [
        {
          "output_type": "error",
          "ename": "SympifyError",
          "evalue": "ignored",
          "traceback": [
            "\u001b[0;31m---------------------------------------------------------------------------\u001b[0m",
            "\u001b[0;31mSyntaxError\u001b[0m                               Traceback (most recent call last)",
            "\u001b[0;32m/usr/local/lib/python3.6/dist-packages/sympy/core/sympify.py\u001b[0m in \u001b[0;36msympify\u001b[0;34m(a, locals, convert_xor, strict, rational, evaluate)\u001b[0m\n\u001b[1;32m    353\u001b[0m         \u001b[0ma\u001b[0m \u001b[0;34m=\u001b[0m \u001b[0ma\u001b[0m\u001b[0;34m.\u001b[0m\u001b[0mreplace\u001b[0m\u001b[0;34m(\u001b[0m\u001b[0;34m'\\n'\u001b[0m\u001b[0;34m,\u001b[0m \u001b[0;34m''\u001b[0m\u001b[0;34m)\u001b[0m\u001b[0;34m\u001b[0m\u001b[0;34m\u001b[0m\u001b[0m\n\u001b[0;32m--> 354\u001b[0;31m         \u001b[0mexpr\u001b[0m \u001b[0;34m=\u001b[0m \u001b[0mparse_expr\u001b[0m\u001b[0;34m(\u001b[0m\u001b[0ma\u001b[0m\u001b[0;34m,\u001b[0m \u001b[0mlocal_dict\u001b[0m\u001b[0;34m=\u001b[0m\u001b[0mlocals\u001b[0m\u001b[0;34m,\u001b[0m \u001b[0mtransformations\u001b[0m\u001b[0;34m=\u001b[0m\u001b[0mtransformations\u001b[0m\u001b[0;34m,\u001b[0m \u001b[0mevaluate\u001b[0m\u001b[0;34m=\u001b[0m\u001b[0mevaluate\u001b[0m\u001b[0;34m)\u001b[0m\u001b[0;34m\u001b[0m\u001b[0;34m\u001b[0m\u001b[0m\n\u001b[0m\u001b[1;32m    355\u001b[0m     \u001b[0;32mexcept\u001b[0m \u001b[0;34m(\u001b[0m\u001b[0mTokenError\u001b[0m\u001b[0;34m,\u001b[0m \u001b[0mSyntaxError\u001b[0m\u001b[0;34m)\u001b[0m \u001b[0;32mas\u001b[0m \u001b[0mexc\u001b[0m\u001b[0;34m:\u001b[0m\u001b[0;34m\u001b[0m\u001b[0;34m\u001b[0m\u001b[0m\n",
            "\u001b[0;32m/usr/local/lib/python3.6/dist-packages/sympy/parsing/sympy_parser.py\u001b[0m in \u001b[0;36mparse_expr\u001b[0;34m(s, local_dict, transformations, global_dict, evaluate)\u001b[0m\n\u001b[1;32m    893\u001b[0m \u001b[0;34m\u001b[0m\u001b[0m\n\u001b[0;32m--> 894\u001b[0;31m     \u001b[0;32mreturn\u001b[0m \u001b[0meval_expr\u001b[0m\u001b[0;34m(\u001b[0m\u001b[0mcode\u001b[0m\u001b[0;34m,\u001b[0m \u001b[0mlocal_dict\u001b[0m\u001b[0;34m,\u001b[0m \u001b[0mglobal_dict\u001b[0m\u001b[0;34m)\u001b[0m\u001b[0;34m\u001b[0m\u001b[0;34m\u001b[0m\u001b[0m\n\u001b[0m\u001b[1;32m    895\u001b[0m \u001b[0;34m\u001b[0m\u001b[0m\n",
            "\u001b[0;32m/usr/local/lib/python3.6/dist-packages/sympy/parsing/sympy_parser.py\u001b[0m in \u001b[0;36meval_expr\u001b[0;34m(code, local_dict, global_dict)\u001b[0m\n\u001b[1;32m    806\u001b[0m     expr = eval(\n\u001b[0;32m--> 807\u001b[0;31m         code, global_dict, local_dict)  # take local objects in preference\n\u001b[0m\u001b[1;32m    808\u001b[0m \u001b[0;34m\u001b[0m\u001b[0m\n",
            "\u001b[0;31mSyntaxError\u001b[0m: invalid syntax (<string>, line 1)",
            "\nDuring handling of the above exception, another exception occurred:\n",
            "\u001b[0;31mSympifyError\u001b[0m                              Traceback (most recent call last)",
            "\u001b[0;32m<ipython-input-3-ecae8531750c>\u001b[0m in \u001b[0;36m<module>\u001b[0;34m()\u001b[0m\n\u001b[1;32m     13\u001b[0m \u001b[0mt_c\u001b[0m\u001b[0;34m,\u001b[0m \u001b[0mphi_c\u001b[0m\u001b[0;34m,\u001b[0m \u001b[0meta\u001b[0m\u001b[0;34m,\u001b[0m \u001b[0mM_tot\u001b[0m \u001b[0;34m=\u001b[0m \u001b[0msympy\u001b[0m\u001b[0;34m.\u001b[0m\u001b[0msymbols\u001b[0m\u001b[0;34m(\u001b[0m\u001b[0;34m't_c, phic_c, eta, M_tot'\u001b[0m\u001b[0;34m)\u001b[0m \u001b[0;31m##define variables as symbols all at once\u001b[0m\u001b[0;34m\u001b[0m\u001b[0;34m\u001b[0m\u001b[0m\n\u001b[1;32m     14\u001b[0m \u001b[0;34m\u001b[0m\u001b[0m\n\u001b[0;32m---> 15\u001b[0;31m \u001b[0mPartDeriv_t_c\u001b[0m \u001b[0;34m=\u001b[0m \u001b[0msympy\u001b[0m\u001b[0;34m.\u001b[0m\u001b[0mdiff\u001b[0m\u001b[0;34m(\u001b[0m\u001b[0mhlong\u001b[0m\u001b[0;34m,\u001b[0m \u001b[0mt_c\u001b[0m\u001b[0;34m)\u001b[0m\u001b[0;34m\u001b[0m\u001b[0;34m\u001b[0m\u001b[0m\n\u001b[0m\u001b[1;32m     16\u001b[0m \u001b[0mPartDeriv_phi_c\u001b[0m \u001b[0;34m=\u001b[0m \u001b[0msympy\u001b[0m\u001b[0;34m.\u001b[0m\u001b[0mdiff\u001b[0m\u001b[0;34m(\u001b[0m\u001b[0mhlong\u001b[0m\u001b[0;34m,\u001b[0m \u001b[0mphi_c\u001b[0m\u001b[0;34m)\u001b[0m\u001b[0;34m\u001b[0m\u001b[0;34m\u001b[0m\u001b[0m\n\u001b[1;32m     17\u001b[0m \u001b[0mPartDeriv_eta\u001b[0m \u001b[0;34m=\u001b[0m \u001b[0msympy\u001b[0m\u001b[0;34m.\u001b[0m\u001b[0mdiff\u001b[0m\u001b[0;34m(\u001b[0m\u001b[0mhlong\u001b[0m\u001b[0;34m,\u001b[0m \u001b[0meta\u001b[0m\u001b[0;34m)\u001b[0m\u001b[0;34m\u001b[0m\u001b[0;34m\u001b[0m\u001b[0m\n",
            "\u001b[0;32m/usr/local/lib/python3.6/dist-packages/sympy/core/function.py\u001b[0m in \u001b[0;36mdiff\u001b[0;34m(f, *symbols, **kwargs)\u001b[0m\n\u001b[1;32m   1835\u001b[0m     \u001b[0;32mexcept\u001b[0m \u001b[0mAttributeError\u001b[0m\u001b[0;34m:\u001b[0m\u001b[0;34m\u001b[0m\u001b[0;34m\u001b[0m\u001b[0m\n\u001b[1;32m   1836\u001b[0m         \u001b[0;32mpass\u001b[0m\u001b[0;34m\u001b[0m\u001b[0;34m\u001b[0m\u001b[0m\n\u001b[0;32m-> 1837\u001b[0;31m     \u001b[0;32mreturn\u001b[0m \u001b[0mDerivative\u001b[0m\u001b[0;34m(\u001b[0m\u001b[0mf\u001b[0m\u001b[0;34m,\u001b[0m \u001b[0;34m*\u001b[0m\u001b[0msymbols\u001b[0m\u001b[0;34m,\u001b[0m \u001b[0;34m**\u001b[0m\u001b[0mkwargs\u001b[0m\u001b[0;34m)\u001b[0m\u001b[0;34m\u001b[0m\u001b[0;34m\u001b[0m\u001b[0m\n\u001b[0m\u001b[1;32m   1838\u001b[0m \u001b[0;34m\u001b[0m\u001b[0m\n\u001b[1;32m   1839\u001b[0m \u001b[0;34m\u001b[0m\u001b[0m\n",
            "\u001b[0;32m/usr/local/lib/python3.6/dist-packages/sympy/core/function.py\u001b[0m in \u001b[0;36m__new__\u001b[0;34m(cls, expr, *variables, **assumptions)\u001b[0m\n\u001b[1;32m   1059\u001b[0m     \u001b[0;32mdef\u001b[0m \u001b[0m__new__\u001b[0m\u001b[0;34m(\u001b[0m\u001b[0mcls\u001b[0m\u001b[0;34m,\u001b[0m \u001b[0mexpr\u001b[0m\u001b[0;34m,\u001b[0m \u001b[0;34m*\u001b[0m\u001b[0mvariables\u001b[0m\u001b[0;34m,\u001b[0m \u001b[0;34m**\u001b[0m\u001b[0massumptions\u001b[0m\u001b[0;34m)\u001b[0m\u001b[0;34m:\u001b[0m\u001b[0;34m\u001b[0m\u001b[0;34m\u001b[0m\u001b[0m\n\u001b[1;32m   1060\u001b[0m \u001b[0;34m\u001b[0m\u001b[0m\n\u001b[0;32m-> 1061\u001b[0;31m         \u001b[0mexpr\u001b[0m \u001b[0;34m=\u001b[0m \u001b[0msympify\u001b[0m\u001b[0;34m(\u001b[0m\u001b[0mexpr\u001b[0m\u001b[0;34m)\u001b[0m\u001b[0;34m\u001b[0m\u001b[0;34m\u001b[0m\u001b[0m\n\u001b[0m\u001b[1;32m   1062\u001b[0m \u001b[0;34m\u001b[0m\u001b[0m\n\u001b[1;32m   1063\u001b[0m         \u001b[0;31m# There are no variables, we differentiate wrt all of the free symbols\u001b[0m\u001b[0;34m\u001b[0m\u001b[0;34m\u001b[0m\u001b[0;34m\u001b[0m\u001b[0m\n",
            "\u001b[0;32m/usr/local/lib/python3.6/dist-packages/sympy/core/sympify.py\u001b[0m in \u001b[0;36msympify\u001b[0;34m(a, locals, convert_xor, strict, rational, evaluate)\u001b[0m\n\u001b[1;32m    354\u001b[0m         \u001b[0mexpr\u001b[0m \u001b[0;34m=\u001b[0m \u001b[0mparse_expr\u001b[0m\u001b[0;34m(\u001b[0m\u001b[0ma\u001b[0m\u001b[0;34m,\u001b[0m \u001b[0mlocal_dict\u001b[0m\u001b[0;34m=\u001b[0m\u001b[0mlocals\u001b[0m\u001b[0;34m,\u001b[0m \u001b[0mtransformations\u001b[0m\u001b[0;34m=\u001b[0m\u001b[0mtransformations\u001b[0m\u001b[0;34m,\u001b[0m \u001b[0mevaluate\u001b[0m\u001b[0;34m=\u001b[0m\u001b[0mevaluate\u001b[0m\u001b[0;34m)\u001b[0m\u001b[0;34m\u001b[0m\u001b[0;34m\u001b[0m\u001b[0m\n\u001b[1;32m    355\u001b[0m     \u001b[0;32mexcept\u001b[0m \u001b[0;34m(\u001b[0m\u001b[0mTokenError\u001b[0m\u001b[0;34m,\u001b[0m \u001b[0mSyntaxError\u001b[0m\u001b[0;34m)\u001b[0m \u001b[0;32mas\u001b[0m \u001b[0mexc\u001b[0m\u001b[0;34m:\u001b[0m\u001b[0;34m\u001b[0m\u001b[0;34m\u001b[0m\u001b[0m\n\u001b[0;32m--> 356\u001b[0;31m         \u001b[0;32mraise\u001b[0m \u001b[0mSympifyError\u001b[0m\u001b[0;34m(\u001b[0m\u001b[0;34m'could not parse %r'\u001b[0m \u001b[0;34m%\u001b[0m \u001b[0ma\u001b[0m\u001b[0;34m,\u001b[0m \u001b[0mexc\u001b[0m\u001b[0;34m)\u001b[0m\u001b[0;34m\u001b[0m\u001b[0;34m\u001b[0m\u001b[0m\n\u001b[0m\u001b[1;32m    357\u001b[0m \u001b[0;34m\u001b[0m\u001b[0m\n\u001b[1;32m    358\u001b[0m     \u001b[0;32mreturn\u001b[0m \u001b[0mexpr\u001b[0m\u001b[0;34m\u001b[0m\u001b[0;34m\u001b[0m\u001b[0m\n",
            "\u001b[0;31mSympifyError\u001b[0m: Sympify of expression 'could not parse '<function hlong at 0x7f2afef9df28>'' failed, because of exception being raised:\nSyntaxError: invalid syntax (<string>, line 1)"
          ]
        }
      ]
    },
    {
      "cell_type": "markdown",
      "metadata": {
        "id": "8KOcquh0HhA3",
        "colab_type": "text"
      },
      "source": [
        "### Exercise 2\n",
        "  Generalising the code"
      ]
    },
    {
      "cell_type": "markdown",
      "metadata": {
        "id": "TUI_bKxEHv2x",
        "colab_type": "text"
      },
      "source": [
        "### Exercise 3\n",
        "Testing the generalized code\n"
      ]
    },
    {
      "cell_type": "code",
      "metadata": {
        "id": "oUEcYXafK8YU",
        "colab_type": "code",
        "colab": {}
      },
      "source": [
        "\n",
        "#################import data from text files (please move files in appropriate directory)###################\n",
        "\n",
        "import numpy as np\n",
        "\n",
        "########LIGO\n",
        "\n",
        "Ligodata = np.loadtxt(fname = \"LigoList.txt\")\n",
        "column_1 = Ligodata[:,0]   ### takes first colomn (frequencies)\n",
        "column_6 = Ligodata[:,-1]  ### Always takes last column (sensitivies)\n",
        "\n",
        "freq_ligo = column_1\n",
        "sens_ligo = column_6\n",
        "\n",
        "###########EINSTEIN\n",
        "\n",
        "Einsteindata = np.loadtxt(fname = \"EinsteinList.txt\")\n",
        "column_1 = Einsteindata[:,0]   ### takes first colomn (frequencies)\n",
        "column_last = Einsteindata[:,-1]  ### Always takes last column (sensitivies)\n",
        "\n",
        "freq_einstein = column_1\n",
        "sens_einstein = column_last\n",
        "\n",
        "\n",
        "############VIRGO\n",
        "\n",
        "Virgodata = np.loadtxt(fname = \"VirgoList.txt\")\n",
        "column_1 = Virgodata[:,0]   ### takes first colomn (frequencies)\n",
        "column_last = Virgodata[:,-1]  ### Always takes last column (sensitivies)\n",
        "\n",
        "freq_virgo = column_1\n",
        "sens_virgo = column_last\n",
        "\n",
        "\n",
        "\n",
        "############KAGRA\n",
        "\n",
        "Kagradata = np.loadtxt(fname = \"KagraList.txt\")\n",
        "column_1 = Kagradata[:,0]   ### takes first colomn (frequencies)\n",
        "column_last = Kagradata[:,-1]  ### Always takes last column (sensitivies)\n",
        "\n",
        "freq_kagra = column_1\n",
        "sens_kagra = column_last\n",
        "\n",
        "\n",
        "\n",
        "############## Invert Fisher matrix (does not work because troubles earlier, but this is how i would do it if working)\n",
        "from numpy.linalg import inv\n",
        "invert = inv(np.matrix(matrixf))\n",
        "\n",
        "\n",
        "############## take diagonal elements of Fisher matrix\n",
        "diagonals = np.diagonal(matrixf)\n",
        "sqrdiag = np.sqrt(diagonals) ## square root of diagonals\n",
        "\n"
      ],
      "execution_count": 0,
      "outputs": []
    }
  ]
}