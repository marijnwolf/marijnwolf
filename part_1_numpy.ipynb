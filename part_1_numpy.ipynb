{
  "nbformat": 4,
  "nbformat_minor": 0,
  "metadata": {
    "kernelspec": {
      "display_name": "Python 3",
      "language": "python",
      "name": "python3"
    },
    "language_info": {
      "codemirror_mode": {
        "name": "ipython",
        "version": 3
      },
      "file_extension": ".py",
      "mimetype": "text/x-python",
      "name": "python",
      "nbconvert_exporter": "python",
      "pygments_lexer": "ipython3",
      "version": "3.7.6"
    },
    "colab": {
      "name": "part_1_numpy.ipynb",
      "provenance": [],
      "include_colab_link": true
    }
  },
  "cells": [
    {
      "cell_type": "markdown",
      "metadata": {
        "id": "view-in-github",
        "colab_type": "text"
      },
      "source": [
        "<a href=\"https://colab.research.google.com/github/marijnwolf/marijnwolf/blob/master/part_1_numpy.ipynb\" target=\"_parent\"><img src=\"https://colab.research.google.com/assets/colab-badge.svg\" alt=\"Open In Colab\"/></a>"
      ]
    },
    {
      "cell_type": "markdown",
      "metadata": {
        "id": "Et5zM9COdhrf",
        "colab_type": "text"
      },
      "source": [
        "# Numpy -  multidimensional data arrays"
      ]
    },
    {
      "cell_type": "markdown",
      "metadata": {
        "id": "WDgYoTcadhrh",
        "colab_type": "text"
      },
      "source": [
        "This lecture is a reduced version compiled from the following materials:\n",
        "\n",
        "    J.R. Johansson (jrjohansson at gmail.com)\n",
        "    The latest version of this IPython notebook lecture is available at http://github.com/jrjohansson/scientific-python-lectures.\n",
        "    The other notebooks in this lecture series are indexed at http://jrjohansson.github.io.\n",
        "    \n",
        "    https://diveintopython3.problemsolving.io/\n",
        "    \n",
        "    https://www.dataquest.io/blog/jupyter-notebook-tutorial/"
      ]
    },
    {
      "cell_type": "code",
      "metadata": {
        "id": "vdmO-OEtdhrj",
        "colab_type": "code",
        "colab": {}
      },
      "source": [
        "# what is this line all about?!? Patience, young apprentice.\n",
        "%matplotlib inline\n",
        "import matplotlib.pyplot as plt"
      ],
      "execution_count": 0,
      "outputs": []
    },
    {
      "cell_type": "markdown",
      "metadata": {
        "id": "_hQhkURPdhrr",
        "colab_type": "text"
      },
      "source": [
        "## Introduction"
      ]
    },
    {
      "cell_type": "markdown",
      "metadata": {
        "id": "FL5LOHi-dhrs",
        "colab_type": "text"
      },
      "source": [
        "The `numpy` package (module) is used in almost all numerical computation using Python. It is a package that provide high-performance vector, matrix and higher-dimensional data structures for Python. It is implemented in C and Fortran so when calculations are vectorized (formulated with vectors and matrices), performance is very good. \n",
        "\n",
        "To use `numpy` you need to import the module, using for example:"
      ]
    },
    {
      "cell_type": "code",
      "metadata": {
        "id": "JPk8CIn8dhrt",
        "colab_type": "code",
        "colab": {}
      },
      "source": [
        "from numpy import *"
      ],
      "execution_count": 0,
      "outputs": []
    },
    {
      "cell_type": "markdown",
      "metadata": {
        "id": "yFx6e3Bndhrz",
        "colab_type": "text"
      },
      "source": [
        "In the `numpy` package the terminology used for vectors, matrices and higher-dimensional data sets is *array*. \n",
        "\n"
      ]
    },
    {
      "cell_type": "markdown",
      "metadata": {
        "id": "LHGYSzEWdhr1",
        "colab_type": "text"
      },
      "source": [
        "## Creating `numpy` arrays"
      ]
    },
    {
      "cell_type": "markdown",
      "metadata": {
        "id": "YpgPpEYJdhr3",
        "colab_type": "text"
      },
      "source": [
        "There are a number of ways to initialize new numpy arrays, for example from\n",
        "\n",
        "* a Python list or tuples\n",
        "* using functions that are dedicated to generating numpy arrays, such as `arange`, `linspace`, etc.\n",
        "* reading data from files"
      ]
    },
    {
      "cell_type": "markdown",
      "metadata": {
        "id": "exGjN0nEdhr4",
        "colab_type": "text"
      },
      "source": [
        "### From lists"
      ]
    },
    {
      "cell_type": "markdown",
      "metadata": {
        "id": "-LPUALiOdhr5",
        "colab_type": "text"
      },
      "source": [
        "For example, to create new vector and matrix arrays from Python lists we can use the `numpy.array` function."
      ]
    },
    {
      "cell_type": "code",
      "metadata": {
        "id": "WcxyHIUOdhr7",
        "colab_type": "code",
        "colab": {},
        "outputId": "f5972be5-d0a0-42a7-c25a-3498c634e423"
      },
      "source": [
        "# a vector: the argument to the array function is a Python list\n",
        "v = array([1,2,3,4])\n",
        "\n",
        "v"
      ],
      "execution_count": 0,
      "outputs": [
        {
          "output_type": "execute_result",
          "data": {
            "text/plain": [
              "array([1, 2, 3, 4])"
            ]
          },
          "metadata": {
            "tags": []
          },
          "execution_count": 3
        }
      ]
    },
    {
      "cell_type": "code",
      "metadata": {
        "id": "FbgNFfc1dhsB",
        "colab_type": "code",
        "colab": {},
        "outputId": "05358865-7be4-4a4c-ef43-56311edea6db"
      },
      "source": [
        "# a matrix: the argument to the array function is a nested Python list\n",
        "M = array([[1, 2], [3, 4]])\n",
        "\n",
        "M"
      ],
      "execution_count": 0,
      "outputs": [
        {
          "output_type": "execute_result",
          "data": {
            "text/plain": [
              "array([[1, 2],\n",
              "       [3, 4]])"
            ]
          },
          "metadata": {
            "tags": []
          },
          "execution_count": 4
        }
      ]
    },
    {
      "cell_type": "markdown",
      "metadata": {
        "id": "4DK-5qMRdhsP",
        "colab_type": "text"
      },
      "source": [
        "The `v` and `M` objects are both of the type `ndarray` that the `numpy` module provides."
      ]
    },
    {
      "cell_type": "code",
      "metadata": {
        "id": "F3_uxpKTdhsP",
        "colab_type": "code",
        "colab": {},
        "outputId": "0e6214f6-c44c-4236-c64b-08cb77d71c3c"
      },
      "source": [
        "type(v), type(M)"
      ],
      "execution_count": 0,
      "outputs": [
        {
          "output_type": "execute_result",
          "data": {
            "text/plain": [
              "(numpy.ndarray, numpy.ndarray)"
            ]
          },
          "metadata": {
            "tags": []
          },
          "execution_count": 5
        }
      ]
    },
    {
      "cell_type": "markdown",
      "metadata": {
        "id": "xhT9jIwXdhsT",
        "colab_type": "text"
      },
      "source": [
        "The difference between the `v` and `M` arrays is only their shapes. We can get information about the shape of an array by using the `ndarray.shape` property."
      ]
    },
    {
      "cell_type": "code",
      "metadata": {
        "id": "Dy6f6nEDdhsY",
        "colab_type": "code",
        "colab": {},
        "outputId": "f5ccc958-d2fb-4a10-9dcb-f072e4b313ff"
      },
      "source": [
        "v.shape"
      ],
      "execution_count": 0,
      "outputs": [
        {
          "output_type": "execute_result",
          "data": {
            "text/plain": [
              "(4,)"
            ]
          },
          "metadata": {
            "tags": []
          },
          "execution_count": 6
        }
      ]
    },
    {
      "cell_type": "code",
      "metadata": {
        "id": "8WRhFCDtdhsc",
        "colab_type": "code",
        "colab": {},
        "outputId": "534b9658-1492-48bc-8049-c85a8312c3c2"
      },
      "source": [
        "M.shape"
      ],
      "execution_count": 0,
      "outputs": [
        {
          "output_type": "execute_result",
          "data": {
            "text/plain": [
              "(2, 2)"
            ]
          },
          "metadata": {
            "tags": []
          },
          "execution_count": 7
        }
      ]
    },
    {
      "cell_type": "markdown",
      "metadata": {
        "id": "oZH3V7z4dhsk",
        "colab_type": "text"
      },
      "source": [
        "The number of elements in the array is available through the `ndarray.size` property:"
      ]
    },
    {
      "cell_type": "code",
      "metadata": {
        "id": "0tEEn_dJdhsl",
        "colab_type": "code",
        "colab": {},
        "outputId": "b0d48819-f025-49f2-958e-c296b39300e6"
      },
      "source": [
        "M.size"
      ],
      "execution_count": 0,
      "outputs": [
        {
          "output_type": "execute_result",
          "data": {
            "text/plain": [
              "4"
            ]
          },
          "metadata": {
            "tags": []
          },
          "execution_count": 8
        }
      ]
    },
    {
      "cell_type": "markdown",
      "metadata": {
        "id": "HLp3TJM7dhso",
        "colab_type": "text"
      },
      "source": [
        "So far the `numpy.ndarray` looks awfully much like a Python list (or nested list). Why not simply use Python lists for computations instead of creating a new array type? \n",
        "\n",
        "There are several reasons:\n",
        "\n",
        "* Python lists are very general. They can contain any kind of object. They are dynamically typed. They do not support mathematical functions such as matrix and dot multiplications, etc. Implementing such functions for Python lists would not be very efficient because of the dynamic typing.\n",
        "* Numpy arrays are **statically typed** and **homogeneous**. The type of the elements is determined when the array is created.\n",
        "* Numpy arrays are memory efficient.\n",
        "* Because of the static typing, fast implementation of mathematical functions such as multiplication and addition of `numpy` arrays can be implemented in a compiled language (C and Fortran is used).\n",
        "\n",
        "Using the `dtype` (data type) property of an `ndarray`, we can see what type the data of an array has:"
      ]
    },
    {
      "cell_type": "code",
      "metadata": {
        "id": "ml814LmYdhsp",
        "colab_type": "code",
        "colab": {},
        "outputId": "37c104e2-fcbb-48a3-f2b1-0c0a6ce8c24c"
      },
      "source": [
        "M.dtype"
      ],
      "execution_count": 0,
      "outputs": [
        {
          "output_type": "execute_result",
          "data": {
            "text/plain": [
              "dtype('int64')"
            ]
          },
          "metadata": {
            "tags": []
          },
          "execution_count": 9
        }
      ]
    },
    {
      "cell_type": "markdown",
      "metadata": {
        "id": "cTjS1R8Rdhst",
        "colab_type": "text"
      },
      "source": [
        "We get an error if we try to assign a value of the wrong type to an element in a numpy array:"
      ]
    },
    {
      "cell_type": "code",
      "metadata": {
        "id": "bUkVQLSBdhsu",
        "colab_type": "code",
        "colab": {},
        "outputId": "534f4733-99da-40c5-800e-36d34f291ed4"
      },
      "source": [
        "M[0,0] = \"hello\""
      ],
      "execution_count": 0,
      "outputs": [
        {
          "output_type": "error",
          "ename": "ValueError",
          "evalue": "invalid literal for int() with base 10: 'hello'",
          "traceback": [
            "\u001b[0;31m---------------------------------------------------------------------------\u001b[0m",
            "\u001b[0;31mValueError\u001b[0m                                Traceback (most recent call last)",
            "\u001b[0;32m<ipython-input-10-e1f336250f69>\u001b[0m in \u001b[0;36m<module>\u001b[0;34m\u001b[0m\n\u001b[0;32m----> 1\u001b[0;31m \u001b[0mM\u001b[0m\u001b[0;34m[\u001b[0m\u001b[0;36m0\u001b[0m\u001b[0;34m,\u001b[0m\u001b[0;36m0\u001b[0m\u001b[0;34m]\u001b[0m \u001b[0;34m=\u001b[0m \u001b[0;34m\"hello\"\u001b[0m\u001b[0;34m\u001b[0m\u001b[0;34m\u001b[0m\u001b[0m\n\u001b[0m",
            "\u001b[0;31mValueError\u001b[0m: invalid literal for int() with base 10: 'hello'"
          ]
        }
      ]
    },
    {
      "cell_type": "markdown",
      "metadata": {
        "id": "ceZU7Hf3dhsx",
        "colab_type": "text"
      },
      "source": [
        "If we want, we can explicitly define the type of the array data when we create it, using the `dtype` keyword argument: "
      ]
    },
    {
      "cell_type": "code",
      "metadata": {
        "id": "BwbaqcUEdhsy",
        "colab_type": "code",
        "colab": {},
        "outputId": "82fe8fe0-2548-43f3-e177-70b2473b2eb3"
      },
      "source": [
        "M = array([[1, 2], [3, 4]], dtype=complex)\n",
        "\n",
        "M"
      ],
      "execution_count": 0,
      "outputs": [
        {
          "output_type": "execute_result",
          "data": {
            "text/plain": [
              "array([[1.+0.j, 2.+0.j],\n",
              "       [3.+0.j, 4.+0.j]])"
            ]
          },
          "metadata": {
            "tags": []
          },
          "execution_count": 11
        }
      ]
    },
    {
      "cell_type": "markdown",
      "metadata": {
        "id": "Bhe7fCq_dhs4",
        "colab_type": "text"
      },
      "source": [
        "Common data types that can be used with `dtype` are: `int`, `float`, `complex`, `bool`, `object`, etc."
      ]
    },
    {
      "cell_type": "markdown",
      "metadata": {
        "id": "sVqN1HVedhs5",
        "colab_type": "text"
      },
      "source": [
        "### Using array-generating functions"
      ]
    },
    {
      "cell_type": "markdown",
      "metadata": {
        "id": "lqtCw3WWdhs6",
        "colab_type": "text"
      },
      "source": [
        "For larger arrays it is inpractical to initialize the data manually, using explicit python lists. Instead we can use one of the many functions in `numpy` that generate arrays of different forms. Some of the more common are:"
      ]
    },
    {
      "cell_type": "markdown",
      "metadata": {
        "id": "BeAYuyaUdhs8",
        "colab_type": "text"
      },
      "source": [
        "#### arange"
      ]
    },
    {
      "cell_type": "code",
      "metadata": {
        "id": "swx6TLc0dhs9",
        "colab_type": "code",
        "colab": {},
        "outputId": "166c140e-11fe-454d-9241-011696c9eace"
      },
      "source": [
        "# create a range\n",
        "\n",
        "x = arange(0, 10, 1) # arguments: start, stop, step\n",
        "\n",
        "x"
      ],
      "execution_count": 0,
      "outputs": [
        {
          "output_type": "execute_result",
          "data": {
            "text/plain": [
              "array([0, 1, 2, 3, 4, 5, 6, 7, 8, 9])"
            ]
          },
          "metadata": {
            "tags": []
          },
          "execution_count": 12
        }
      ]
    },
    {
      "cell_type": "code",
      "metadata": {
        "id": "5W7ArdpAdhtB",
        "colab_type": "code",
        "colab": {},
        "outputId": "59a85692-f2cc-4b81-d210-b76a6d79b003"
      },
      "source": [
        "x = arange(-1, 1, 0.1)\n",
        "\n",
        "x"
      ],
      "execution_count": 0,
      "outputs": [
        {
          "output_type": "execute_result",
          "data": {
            "text/plain": [
              "array([-1.00000000e+00, -9.00000000e-01, -8.00000000e-01, -7.00000000e-01,\n",
              "       -6.00000000e-01, -5.00000000e-01, -4.00000000e-01, -3.00000000e-01,\n",
              "       -2.00000000e-01, -1.00000000e-01, -2.22044605e-16,  1.00000000e-01,\n",
              "        2.00000000e-01,  3.00000000e-01,  4.00000000e-01,  5.00000000e-01,\n",
              "        6.00000000e-01,  7.00000000e-01,  8.00000000e-01,  9.00000000e-01])"
            ]
          },
          "metadata": {
            "tags": []
          },
          "execution_count": 13
        }
      ]
    },
    {
      "cell_type": "markdown",
      "metadata": {
        "id": "hQmu1blidhtJ",
        "colab_type": "text"
      },
      "source": [
        "#### linspace and logspace"
      ]
    },
    {
      "cell_type": "code",
      "metadata": {
        "id": "acjD0MNwdhtK",
        "colab_type": "code",
        "colab": {},
        "outputId": "74d8e774-2db7-42f6-bdf7-e00ad4222f68"
      },
      "source": [
        "# using linspace, both end points ARE included\n",
        "linspace(0, 10, 25)"
      ],
      "execution_count": 0,
      "outputs": [
        {
          "output_type": "execute_result",
          "data": {
            "text/plain": [
              "array([ 0.        ,  0.41666667,  0.83333333,  1.25      ,  1.66666667,\n",
              "        2.08333333,  2.5       ,  2.91666667,  3.33333333,  3.75      ,\n",
              "        4.16666667,  4.58333333,  5.        ,  5.41666667,  5.83333333,\n",
              "        6.25      ,  6.66666667,  7.08333333,  7.5       ,  7.91666667,\n",
              "        8.33333333,  8.75      ,  9.16666667,  9.58333333, 10.        ])"
            ]
          },
          "metadata": {
            "tags": []
          },
          "execution_count": 14
        }
      ]
    },
    {
      "cell_type": "code",
      "metadata": {
        "id": "ruMAm9gPdhtW",
        "colab_type": "code",
        "colab": {},
        "outputId": "6f1ead57-8bb9-4806-e31e-98670a2ea50c"
      },
      "source": [
        "logspace(0, 10, 10, base=e)"
      ],
      "execution_count": 0,
      "outputs": [
        {
          "output_type": "execute_result",
          "data": {
            "text/plain": [
              "array([1.00000000e+00, 3.03773178e+00, 9.22781435e+00, 2.80316249e+01,\n",
              "       8.51525577e+01, 2.58670631e+02, 7.85771994e+02, 2.38696456e+03,\n",
              "       7.25095809e+03, 2.20264658e+04])"
            ]
          },
          "metadata": {
            "tags": []
          },
          "execution_count": 15
        }
      ]
    },
    {
      "cell_type": "markdown",
      "metadata": {
        "id": "gS2I7ONcdhte",
        "colab_type": "text"
      },
      "source": [
        "#### mgrid"
      ]
    },
    {
      "cell_type": "code",
      "metadata": {
        "id": "ri80_hd7dhtf",
        "colab_type": "code",
        "colab": {}
      },
      "source": [
        "x, y = mgrid[0:5, 0:5] # similar to meshgrid in MATLAB"
      ],
      "execution_count": 0,
      "outputs": []
    },
    {
      "cell_type": "code",
      "metadata": {
        "id": "G65anToFdhtj",
        "colab_type": "code",
        "colab": {},
        "outputId": "4e62f7e9-ee41-4541-95c3-ab73bfac2eff"
      },
      "source": [
        "x"
      ],
      "execution_count": 0,
      "outputs": [
        {
          "output_type": "execute_result",
          "data": {
            "text/plain": [
              "array([[0, 0, 0, 0, 0],\n",
              "       [1, 1, 1, 1, 1],\n",
              "       [2, 2, 2, 2, 2],\n",
              "       [3, 3, 3, 3, 3],\n",
              "       [4, 4, 4, 4, 4]])"
            ]
          },
          "metadata": {
            "tags": []
          },
          "execution_count": 17
        }
      ]
    },
    {
      "cell_type": "code",
      "metadata": {
        "id": "fn9WTJe7dhtm",
        "colab_type": "code",
        "colab": {},
        "outputId": "00d7c1ec-7d41-46c2-f534-a97c7c8a68fe"
      },
      "source": [
        "y"
      ],
      "execution_count": 0,
      "outputs": [
        {
          "output_type": "execute_result",
          "data": {
            "text/plain": [
              "array([[0, 1, 2, 3, 4],\n",
              "       [0, 1, 2, 3, 4],\n",
              "       [0, 1, 2, 3, 4],\n",
              "       [0, 1, 2, 3, 4],\n",
              "       [0, 1, 2, 3, 4]])"
            ]
          },
          "metadata": {
            "tags": []
          },
          "execution_count": 18
        }
      ]
    },
    {
      "cell_type": "markdown",
      "metadata": {
        "id": "Fp7chzGkdhtq",
        "colab_type": "text"
      },
      "source": [
        "#### random data"
      ]
    },
    {
      "cell_type": "code",
      "metadata": {
        "id": "wjU_KTNjdhtr",
        "colab_type": "code",
        "colab": {}
      },
      "source": [
        "from numpy import random"
      ],
      "execution_count": 0,
      "outputs": []
    },
    {
      "cell_type": "code",
      "metadata": {
        "id": "0Qp-T0P4dhtv",
        "colab_type": "code",
        "colab": {},
        "outputId": "8e2db891-dd6e-4c5b-ca9e-255d7fb7bf9b"
      },
      "source": [
        "# uniform random numbers in [0,1]\n",
        "random.rand(5,5)"
      ],
      "execution_count": 0,
      "outputs": [
        {
          "output_type": "execute_result",
          "data": {
            "text/plain": [
              "array([[0.07945421, 0.78573343, 0.33271911, 0.53638021, 0.40439918],\n",
              "       [0.43031906, 0.45936808, 0.52413807, 0.42243063, 0.69526915],\n",
              "       [0.26253662, 0.61590811, 0.82225934, 0.01599924, 0.39987459],\n",
              "       [0.48019688, 0.73780471, 0.64593735, 0.35012896, 0.30717599],\n",
              "       [0.30901266, 0.89184986, 0.0972742 , 0.23187844, 0.30208874]])"
            ]
          },
          "metadata": {
            "tags": []
          },
          "execution_count": 20
        }
      ]
    },
    {
      "cell_type": "code",
      "metadata": {
        "id": "c_d07YEGdhtx",
        "colab_type": "code",
        "colab": {},
        "outputId": "25bf5371-16dd-43f1-d3c0-d080155be7f4"
      },
      "source": [
        "# standard normal distributed random numbers\n",
        "random.randn(5,5)"
      ],
      "execution_count": 0,
      "outputs": [
        {
          "output_type": "execute_result",
          "data": {
            "text/plain": [
              "array([[-1.01107618,  1.93574086,  0.89123559, -0.03298653,  1.10017663],\n",
              "       [-0.84271787,  0.35304464, -1.58390601,  0.44777968,  0.14659907],\n",
              "       [ 0.7180722 , -0.32786412,  1.39428716,  0.47850598,  1.53210344],\n",
              "       [ 0.02014233, -0.82002794, -0.8583733 ,  0.94661556,  1.22673202],\n",
              "       [-0.82166708,  0.67381733,  0.66780419,  0.14211478, -0.61300717]])"
            ]
          },
          "metadata": {
            "tags": []
          },
          "execution_count": 21
        }
      ]
    },
    {
      "cell_type": "markdown",
      "metadata": {
        "id": "-zUsAnEfdht0",
        "colab_type": "text"
      },
      "source": [
        "#### diag"
      ]
    },
    {
      "cell_type": "code",
      "metadata": {
        "id": "PUWRmLc3dht1",
        "colab_type": "code",
        "colab": {},
        "outputId": "817ff83e-e9a2-41fc-f83a-22e041e988f5"
      },
      "source": [
        "# a diagonal matrix\n",
        "diag([1,2,3])"
      ],
      "execution_count": 0,
      "outputs": [
        {
          "output_type": "execute_result",
          "data": {
            "text/plain": [
              "array([[1, 0, 0],\n",
              "       [0, 2, 0],\n",
              "       [0, 0, 3]])"
            ]
          },
          "metadata": {
            "tags": []
          },
          "execution_count": 22
        }
      ]
    },
    {
      "cell_type": "code",
      "metadata": {
        "id": "ZfmQmq0edht4",
        "colab_type": "code",
        "colab": {},
        "outputId": "15832d65-0be9-42df-bd6f-83931ca1dcff"
      },
      "source": [
        "# diagonal with offset from the main diagonal\n",
        "diag([1,2,3], k=1) "
      ],
      "execution_count": 0,
      "outputs": [
        {
          "output_type": "execute_result",
          "data": {
            "text/plain": [
              "array([[0, 1, 0, 0],\n",
              "       [0, 0, 2, 0],\n",
              "       [0, 0, 0, 3],\n",
              "       [0, 0, 0, 0]])"
            ]
          },
          "metadata": {
            "tags": []
          },
          "execution_count": 23
        }
      ]
    },
    {
      "cell_type": "markdown",
      "metadata": {
        "id": "MkZnHp9Bdht8",
        "colab_type": "text"
      },
      "source": [
        "#### zeros and ones"
      ]
    },
    {
      "cell_type": "code",
      "metadata": {
        "id": "bG-edjW8dht9",
        "colab_type": "code",
        "colab": {},
        "outputId": "2e020d94-d931-4d28-cfdc-6cc4e89e9285"
      },
      "source": [
        "zeros((3,3))"
      ],
      "execution_count": 0,
      "outputs": [
        {
          "output_type": "execute_result",
          "data": {
            "text/plain": [
              "array([[0., 0., 0.],\n",
              "       [0., 0., 0.],\n",
              "       [0., 0., 0.]])"
            ]
          },
          "metadata": {
            "tags": []
          },
          "execution_count": 24
        }
      ]
    },
    {
      "cell_type": "code",
      "metadata": {
        "id": "5kA4iT6ydhuC",
        "colab_type": "code",
        "colab": {},
        "outputId": "d9a331ab-5bb8-426d-a4b0-2c2c883d4162"
      },
      "source": [
        "ones((3,3))"
      ],
      "execution_count": 0,
      "outputs": [
        {
          "output_type": "execute_result",
          "data": {
            "text/plain": [
              "array([[1., 1., 1.],\n",
              "       [1., 1., 1.],\n",
              "       [1., 1., 1.]])"
            ]
          },
          "metadata": {
            "tags": []
          },
          "execution_count": 25
        }
      ]
    },
    {
      "cell_type": "markdown",
      "metadata": {
        "id": "54yRT-WzdhuH",
        "colab_type": "text"
      },
      "source": [
        "## Manipulating arrays"
      ]
    },
    {
      "cell_type": "markdown",
      "metadata": {
        "id": "MetuLGIldhuI",
        "colab_type": "text"
      },
      "source": [
        "### Indexing"
      ]
    },
    {
      "cell_type": "markdown",
      "metadata": {
        "id": "vCi9xhzedhuJ",
        "colab_type": "text"
      },
      "source": [
        "We can index elements in an array using square brackets and indices:"
      ]
    },
    {
      "cell_type": "code",
      "metadata": {
        "id": "7-20hOhRdhuK",
        "colab_type": "code",
        "colab": {},
        "outputId": "873687a6-a23e-4f0b-eb71-99a4abb9bd18"
      },
      "source": [
        "# v is a vector, and has only one dimension, taking one index\n",
        "v[0]"
      ],
      "execution_count": 0,
      "outputs": [
        {
          "output_type": "execute_result",
          "data": {
            "text/plain": [
              "1"
            ]
          },
          "metadata": {
            "tags": []
          },
          "execution_count": 26
        }
      ]
    },
    {
      "cell_type": "code",
      "metadata": {
        "id": "9Ya5HRradhuO",
        "colab_type": "code",
        "colab": {},
        "outputId": "93408415-5538-40a7-bcbe-d2bbf73ed062"
      },
      "source": [
        "# M is a matrix, or a 2 dimensional array, taking two indices \n",
        "M[1,1]"
      ],
      "execution_count": 0,
      "outputs": [
        {
          "output_type": "execute_result",
          "data": {
            "text/plain": [
              "(4+0j)"
            ]
          },
          "metadata": {
            "tags": []
          },
          "execution_count": 27
        }
      ]
    },
    {
      "cell_type": "markdown",
      "metadata": {
        "id": "qn4E-pL-dhuR",
        "colab_type": "text"
      },
      "source": [
        "If we omit an index of a multidimensional array it returns the whole row (or, in general, a N-1 dimensional array) "
      ]
    },
    {
      "cell_type": "code",
      "metadata": {
        "id": "3RaR7ewQdhuS",
        "colab_type": "code",
        "colab": {},
        "outputId": "3295852e-c7a0-47fb-b547-1332c22c9cb2"
      },
      "source": [
        "M"
      ],
      "execution_count": 0,
      "outputs": [
        {
          "output_type": "execute_result",
          "data": {
            "text/plain": [
              "array([[1.+0.j, 2.+0.j],\n",
              "       [3.+0.j, 4.+0.j]])"
            ]
          },
          "metadata": {
            "tags": []
          },
          "execution_count": 28
        }
      ]
    },
    {
      "cell_type": "code",
      "metadata": {
        "id": "F2UvuMz4dhuV",
        "colab_type": "code",
        "colab": {},
        "outputId": "f66ec721-46b7-4e82-fcf8-8c362e251884"
      },
      "source": [
        "M[1]"
      ],
      "execution_count": 0,
      "outputs": [
        {
          "output_type": "execute_result",
          "data": {
            "text/plain": [
              "array([3.+0.j, 4.+0.j])"
            ]
          },
          "metadata": {
            "tags": []
          },
          "execution_count": 29
        }
      ]
    },
    {
      "cell_type": "markdown",
      "metadata": {
        "id": "uLoLRKoVdhuY",
        "colab_type": "text"
      },
      "source": [
        "The same thing can be achieved with using `:` instead of an index: "
      ]
    },
    {
      "cell_type": "code",
      "metadata": {
        "id": "knOc5FIrdhuZ",
        "colab_type": "code",
        "colab": {},
        "outputId": "981b84ca-6062-4f4c-e400-97a07e370b75"
      },
      "source": [
        "M[1,:] # row 1"
      ],
      "execution_count": 0,
      "outputs": [
        {
          "output_type": "execute_result",
          "data": {
            "text/plain": [
              "array([3.+0.j, 4.+0.j])"
            ]
          },
          "metadata": {
            "tags": []
          },
          "execution_count": 30
        }
      ]
    },
    {
      "cell_type": "code",
      "metadata": {
        "id": "_Ejt86cUdhub",
        "colab_type": "code",
        "colab": {},
        "outputId": "76b15858-736d-4f4a-94cc-36bd61bf8264"
      },
      "source": [
        "M[:,1] # column 1"
      ],
      "execution_count": 0,
      "outputs": [
        {
          "output_type": "execute_result",
          "data": {
            "text/plain": [
              "array([2.+0.j, 4.+0.j])"
            ]
          },
          "metadata": {
            "tags": []
          },
          "execution_count": 31
        }
      ]
    },
    {
      "cell_type": "markdown",
      "metadata": {
        "id": "Mj2sNxKSdhue",
        "colab_type": "text"
      },
      "source": [
        "We can assign new values to elements in an array using indexing:"
      ]
    },
    {
      "cell_type": "code",
      "metadata": {
        "id": "8ECCkmc3dhuf",
        "colab_type": "code",
        "colab": {}
      },
      "source": [
        "M[0,0] = 1"
      ],
      "execution_count": 0,
      "outputs": []
    },
    {
      "cell_type": "code",
      "metadata": {
        "id": "IamjSItHdhul",
        "colab_type": "code",
        "colab": {},
        "outputId": "789ca8dd-8250-4530-9001-16ba6eeeddeb"
      },
      "source": [
        "M"
      ],
      "execution_count": 0,
      "outputs": [
        {
          "output_type": "execute_result",
          "data": {
            "text/plain": [
              "array([[1.+0.j, 2.+0.j],\n",
              "       [3.+0.j, 4.+0.j]])"
            ]
          },
          "metadata": {
            "tags": []
          },
          "execution_count": 33
        }
      ]
    },
    {
      "cell_type": "code",
      "metadata": {
        "id": "69pL039udhuq",
        "colab_type": "code",
        "colab": {},
        "outputId": "ba6dd189-6fec-412d-d409-99d89f9f867b"
      },
      "source": [
        "# also works for rows and columns\n",
        "M[1,:] = 0\n",
        "M[:,2] = -1"
      ],
      "execution_count": 0,
      "outputs": [
        {
          "output_type": "error",
          "ename": "IndexError",
          "evalue": "index 2 is out of bounds for axis 1 with size 2",
          "traceback": [
            "\u001b[0;31m---------------------------------------------------------------------------\u001b[0m",
            "\u001b[0;31mIndexError\u001b[0m                                Traceback (most recent call last)",
            "\u001b[0;32m<ipython-input-34-3e36088f8cc5>\u001b[0m in \u001b[0;36m<module>\u001b[0;34m\u001b[0m\n\u001b[1;32m      1\u001b[0m \u001b[0;31m# also works for rows and columns\u001b[0m\u001b[0;34m\u001b[0m\u001b[0;34m\u001b[0m\u001b[0;34m\u001b[0m\u001b[0m\n\u001b[1;32m      2\u001b[0m \u001b[0mM\u001b[0m\u001b[0;34m[\u001b[0m\u001b[0;36m1\u001b[0m\u001b[0;34m,\u001b[0m\u001b[0;34m:\u001b[0m\u001b[0;34m]\u001b[0m \u001b[0;34m=\u001b[0m \u001b[0;36m0\u001b[0m\u001b[0;34m\u001b[0m\u001b[0;34m\u001b[0m\u001b[0m\n\u001b[0;32m----> 3\u001b[0;31m \u001b[0mM\u001b[0m\u001b[0;34m[\u001b[0m\u001b[0;34m:\u001b[0m\u001b[0;34m,\u001b[0m\u001b[0;36m2\u001b[0m\u001b[0;34m]\u001b[0m \u001b[0;34m=\u001b[0m \u001b[0;34m-\u001b[0m\u001b[0;36m1\u001b[0m\u001b[0;34m\u001b[0m\u001b[0;34m\u001b[0m\u001b[0m\n\u001b[0m",
            "\u001b[0;31mIndexError\u001b[0m: index 2 is out of bounds for axis 1 with size 2"
          ]
        }
      ]
    },
    {
      "cell_type": "code",
      "metadata": {
        "id": "hOFmFdfxdhux",
        "colab_type": "code",
        "colab": {},
        "outputId": "870c9d43-6f91-4fe0-e75a-007b9669a26d"
      },
      "source": [
        "M"
      ],
      "execution_count": 0,
      "outputs": [
        {
          "output_type": "execute_result",
          "data": {
            "text/plain": [
              "array([[1.+0.j, 2.+0.j],\n",
              "       [0.+0.j, 0.+0.j]])"
            ]
          },
          "metadata": {
            "tags": []
          },
          "execution_count": 35
        }
      ]
    },
    {
      "cell_type": "markdown",
      "metadata": {
        "id": "jA1ETP6vdhu2",
        "colab_type": "text"
      },
      "source": [
        "### Index slicing"
      ]
    },
    {
      "cell_type": "markdown",
      "metadata": {
        "id": "AOFtl4uVdhu3",
        "colab_type": "text"
      },
      "source": [
        "Index slicing is the technical name for the syntax `M[lower:upper:step]` to extract part of an array:"
      ]
    },
    {
      "cell_type": "code",
      "metadata": {
        "id": "BMoHVlLFdhu4",
        "colab_type": "code",
        "colab": {},
        "outputId": "7b026c83-8c6a-405c-81d6-6a8c0e5e2c1a"
      },
      "source": [
        "A = array([1,2,3,4,5])\n",
        "A"
      ],
      "execution_count": 0,
      "outputs": [
        {
          "output_type": "execute_result",
          "data": {
            "text/plain": [
              "array([1, 2, 3, 4, 5])"
            ]
          },
          "metadata": {
            "tags": []
          },
          "execution_count": 36
        }
      ]
    },
    {
      "cell_type": "code",
      "metadata": {
        "id": "tc5bfsKqdhu7",
        "colab_type": "code",
        "colab": {},
        "outputId": "898aa8ee-2a16-4182-ea04-2ac3061070c0"
      },
      "source": [
        "A[1:3]"
      ],
      "execution_count": 0,
      "outputs": [
        {
          "output_type": "execute_result",
          "data": {
            "text/plain": [
              "array([2, 3])"
            ]
          },
          "metadata": {
            "tags": []
          },
          "execution_count": 37
        }
      ]
    },
    {
      "cell_type": "markdown",
      "metadata": {
        "id": "UvRw9nkldhu9",
        "colab_type": "text"
      },
      "source": [
        "Array slices are *mutable*: if they are assigned a new value the original array from which the slice was extracted is modified:"
      ]
    },
    {
      "cell_type": "code",
      "metadata": {
        "id": "oQ5LEn8udhu-",
        "colab_type": "code",
        "colab": {},
        "outputId": "06291e0e-01fa-4da8-91bf-7434467dde40"
      },
      "source": [
        "A[1:3] = [-2,-3]\n",
        "\n",
        "A"
      ],
      "execution_count": 0,
      "outputs": [
        {
          "output_type": "execute_result",
          "data": {
            "text/plain": [
              "array([ 1, -2, -3,  4,  5])"
            ]
          },
          "metadata": {
            "tags": []
          },
          "execution_count": 38
        }
      ]
    },
    {
      "cell_type": "markdown",
      "metadata": {
        "id": "027KQkwTdhvC",
        "colab_type": "text"
      },
      "source": [
        "We can omit any of the three parameters in `M[lower:upper:step]`:"
      ]
    },
    {
      "cell_type": "code",
      "metadata": {
        "id": "DE5SCZLBdhvD",
        "colab_type": "code",
        "colab": {},
        "outputId": "f59f8571-bf58-4929-dcd7-83b9d2f3ee7b"
      },
      "source": [
        "A[::] # lower, upper, step all take the default values"
      ],
      "execution_count": 0,
      "outputs": [
        {
          "output_type": "execute_result",
          "data": {
            "text/plain": [
              "array([ 1, -2, -3,  4,  5])"
            ]
          },
          "metadata": {
            "tags": []
          },
          "execution_count": 39
        }
      ]
    },
    {
      "cell_type": "code",
      "metadata": {
        "id": "icmiXT9qdhvH",
        "colab_type": "code",
        "colab": {},
        "outputId": "fe9f8468-11a2-4195-bac9-4347603dcc25"
      },
      "source": [
        "A[::2] # step is 2, lower and upper defaults to the beginning and end of the array"
      ],
      "execution_count": 0,
      "outputs": [
        {
          "output_type": "execute_result",
          "data": {
            "text/plain": [
              "array([ 1, -3,  5])"
            ]
          },
          "metadata": {
            "tags": []
          },
          "execution_count": 40
        }
      ]
    },
    {
      "cell_type": "code",
      "metadata": {
        "id": "be8YYe7HdhvK",
        "colab_type": "code",
        "colab": {},
        "outputId": "6c6e7055-6dd6-4464-8fa5-0f393ee9bf64"
      },
      "source": [
        "A[:3] # first three elements"
      ],
      "execution_count": 0,
      "outputs": [
        {
          "output_type": "execute_result",
          "data": {
            "text/plain": [
              "array([ 1, -2, -3])"
            ]
          },
          "metadata": {
            "tags": []
          },
          "execution_count": 41
        }
      ]
    },
    {
      "cell_type": "code",
      "metadata": {
        "id": "2slyZoSSdhvQ",
        "colab_type": "code",
        "colab": {},
        "outputId": "6e1b733f-56b4-4cd6-d29a-e5a1e0dc6fe1"
      },
      "source": [
        "A[3:] # elements from index 3"
      ],
      "execution_count": 0,
      "outputs": [
        {
          "output_type": "execute_result",
          "data": {
            "text/plain": [
              "array([4, 5])"
            ]
          },
          "metadata": {
            "tags": []
          },
          "execution_count": 42
        }
      ]
    },
    {
      "cell_type": "markdown",
      "metadata": {
        "id": "xTu4ekJbdhvU",
        "colab_type": "text"
      },
      "source": [
        "Negative indices counts from the end of the array (positive index from the begining):"
      ]
    },
    {
      "cell_type": "code",
      "metadata": {
        "id": "JrO4w3bNdhvV",
        "colab_type": "code",
        "colab": {}
      },
      "source": [
        "A = array([1,2,3,4,5])"
      ],
      "execution_count": 0,
      "outputs": []
    },
    {
      "cell_type": "code",
      "metadata": {
        "id": "hUMS-URjdhvX",
        "colab_type": "code",
        "colab": {},
        "outputId": "a1c88bbc-0d4c-499d-b58a-a33e84504b53"
      },
      "source": [
        "A[-1] # the last element in the array"
      ],
      "execution_count": 0,
      "outputs": [
        {
          "output_type": "execute_result",
          "data": {
            "text/plain": [
              "5"
            ]
          },
          "metadata": {
            "tags": []
          },
          "execution_count": 44
        }
      ]
    },
    {
      "cell_type": "code",
      "metadata": {
        "id": "VqANUpyadhvZ",
        "colab_type": "code",
        "colab": {},
        "outputId": "18ad419d-c898-46ff-d961-05c3d1068ba5"
      },
      "source": [
        "A[-3:] # the last three elements"
      ],
      "execution_count": 0,
      "outputs": [
        {
          "output_type": "execute_result",
          "data": {
            "text/plain": [
              "array([3, 4, 5])"
            ]
          },
          "metadata": {
            "tags": []
          },
          "execution_count": 45
        }
      ]
    },
    {
      "cell_type": "markdown",
      "metadata": {
        "id": "vPTYIfL3dhvc",
        "colab_type": "text"
      },
      "source": [
        "Index slicing works exactly the same way for multidimensional arrays:"
      ]
    },
    {
      "cell_type": "code",
      "metadata": {
        "id": "vS_Miw4adhvf",
        "colab_type": "code",
        "colab": {},
        "outputId": "19712101-00c9-4eda-b95d-172f5c57d062"
      },
      "source": [
        "A = array([[n+m*10 for n in range(5)] for m in range(5)])\n",
        "\n",
        "A"
      ],
      "execution_count": 0,
      "outputs": [
        {
          "output_type": "execute_result",
          "data": {
            "text/plain": [
              "array([[ 0,  1,  2,  3,  4],\n",
              "       [10, 11, 12, 13, 14],\n",
              "       [20, 21, 22, 23, 24],\n",
              "       [30, 31, 32, 33, 34],\n",
              "       [40, 41, 42, 43, 44]])"
            ]
          },
          "metadata": {
            "tags": []
          },
          "execution_count": 46
        }
      ]
    },
    {
      "cell_type": "code",
      "metadata": {
        "id": "GNvAaxdAdhvh",
        "colab_type": "code",
        "colab": {},
        "outputId": "bdce5444-2da0-4f35-e693-07f4e569b15a"
      },
      "source": [
        "# a block from the original array\n",
        "A[1:4, 1:4]"
      ],
      "execution_count": 0,
      "outputs": [
        {
          "output_type": "execute_result",
          "data": {
            "text/plain": [
              "array([[11, 12, 13],\n",
              "       [21, 22, 23],\n",
              "       [31, 32, 33]])"
            ]
          },
          "metadata": {
            "tags": []
          },
          "execution_count": 47
        }
      ]
    },
    {
      "cell_type": "code",
      "metadata": {
        "id": "wZ8aLFwddhvk",
        "colab_type": "code",
        "colab": {},
        "outputId": "1f26ac64-e88b-43d1-ae81-b95c7063165b"
      },
      "source": [
        "# strides\n",
        "A[::2, ::2]"
      ],
      "execution_count": 0,
      "outputs": [
        {
          "output_type": "execute_result",
          "data": {
            "text/plain": [
              "array([[ 0,  2,  4],\n",
              "       [20, 22, 24],\n",
              "       [40, 42, 44]])"
            ]
          },
          "metadata": {
            "tags": []
          },
          "execution_count": 48
        }
      ]
    },
    {
      "cell_type": "markdown",
      "metadata": {
        "id": "b9ZE9nQqdhvn",
        "colab_type": "text"
      },
      "source": [
        "### Fancy indexing"
      ]
    },
    {
      "cell_type": "markdown",
      "metadata": {
        "id": "JUQNVGNrdhvo",
        "colab_type": "text"
      },
      "source": [
        "Fancy indexing is the name for when an array or list is used in-place of an index: "
      ]
    },
    {
      "cell_type": "code",
      "metadata": {
        "id": "vk2angDPdhvo",
        "colab_type": "code",
        "colab": {},
        "outputId": "06d12583-1b0d-42d6-d0d5-2ffff9be8b81"
      },
      "source": [
        "row_indices = [1, 2, 3]\n",
        "A[row_indices]"
      ],
      "execution_count": 0,
      "outputs": [
        {
          "output_type": "execute_result",
          "data": {
            "text/plain": [
              "array([[10, 11, 12, 13, 14],\n",
              "       [20, 21, 22, 23, 24],\n",
              "       [30, 31, 32, 33, 34]])"
            ]
          },
          "metadata": {
            "tags": []
          },
          "execution_count": 49
        }
      ]
    },
    {
      "cell_type": "code",
      "metadata": {
        "id": "Kzf7FoN3dhvu",
        "colab_type": "code",
        "colab": {},
        "outputId": "076f141b-9b51-4fd3-c392-38e9e143e3b9"
      },
      "source": [
        "col_indices = [1, 2, -1] # remember, index -1 means the last element\n",
        "A[row_indices, col_indices]"
      ],
      "execution_count": 0,
      "outputs": [
        {
          "output_type": "execute_result",
          "data": {
            "text/plain": [
              "array([11, 22, 34])"
            ]
          },
          "metadata": {
            "tags": []
          },
          "execution_count": 50
        }
      ]
    },
    {
      "cell_type": "markdown",
      "metadata": {
        "id": "b3VyNIoOdhvy",
        "colab_type": "text"
      },
      "source": [
        "We can also use index masks: If the index mask is an Numpy array of data type `bool`, then an element is selected (True) or not (False) depending on the value of the index mask at the position of each element: "
      ]
    },
    {
      "cell_type": "code",
      "metadata": {
        "id": "KEr9q4_Ydhvy",
        "colab_type": "code",
        "colab": {},
        "outputId": "24826578-2c9a-4ab8-c4e2-2eb0697f871b"
      },
      "source": [
        "B = array([n for n in range(5)])\n",
        "B"
      ],
      "execution_count": 0,
      "outputs": [
        {
          "output_type": "execute_result",
          "data": {
            "text/plain": [
              "array([0, 1, 2, 3, 4])"
            ]
          },
          "metadata": {
            "tags": []
          },
          "execution_count": 51
        }
      ]
    },
    {
      "cell_type": "code",
      "metadata": {
        "id": "cEmP0x_Odhv1",
        "colab_type": "code",
        "colab": {},
        "outputId": "061ce480-b213-4ce3-fdb5-f00d4ea04e09"
      },
      "source": [
        "row_mask = array([True, False, True, False, False])\n",
        "B[row_mask]"
      ],
      "execution_count": 0,
      "outputs": [
        {
          "output_type": "execute_result",
          "data": {
            "text/plain": [
              "array([0, 2])"
            ]
          },
          "metadata": {
            "tags": []
          },
          "execution_count": 52
        }
      ]
    },
    {
      "cell_type": "code",
      "metadata": {
        "id": "MIPBZIRodhv4",
        "colab_type": "code",
        "colab": {},
        "outputId": "605cc88b-7a63-4a9a-857c-96816fbca086"
      },
      "source": [
        "# same thing\n",
        "row_mask = array([1,0,1,0,0], dtype=bool)\n",
        "B[row_mask]"
      ],
      "execution_count": 0,
      "outputs": [
        {
          "output_type": "execute_result",
          "data": {
            "text/plain": [
              "array([0, 2])"
            ]
          },
          "metadata": {
            "tags": []
          },
          "execution_count": 53
        }
      ]
    },
    {
      "cell_type": "markdown",
      "metadata": {
        "id": "p3JK7T9Jdhv6",
        "colab_type": "text"
      },
      "source": [
        "This feature is very useful to conditionally select elements from an array, using for example comparison operators:"
      ]
    },
    {
      "cell_type": "code",
      "metadata": {
        "id": "nuKIXDtjdhv7",
        "colab_type": "code",
        "colab": {},
        "outputId": "66f0daec-b690-4c3f-b6b6-4feaeace49d0"
      },
      "source": [
        "x = arange(0, 10, 0.5)\n",
        "x"
      ],
      "execution_count": 0,
      "outputs": [
        {
          "output_type": "execute_result",
          "data": {
            "text/plain": [
              "array([0. , 0.5, 1. , 1.5, 2. , 2.5, 3. , 3.5, 4. , 4.5, 5. , 5.5, 6. ,\n",
              "       6.5, 7. , 7.5, 8. , 8.5, 9. , 9.5])"
            ]
          },
          "metadata": {
            "tags": []
          },
          "execution_count": 54
        }
      ]
    },
    {
      "cell_type": "code",
      "metadata": {
        "id": "5hrZ74Kqdhv_",
        "colab_type": "code",
        "colab": {},
        "outputId": "10b95eff-5b83-46c9-e560-35308d5621d8"
      },
      "source": [
        "mask = (5 < x) * (x < 7.5)\n",
        "\n",
        "mask"
      ],
      "execution_count": 0,
      "outputs": [
        {
          "output_type": "execute_result",
          "data": {
            "text/plain": [
              "array([False, False, False, False, False, False, False, False, False,\n",
              "       False, False,  True,  True,  True,  True, False, False, False,\n",
              "       False, False])"
            ]
          },
          "metadata": {
            "tags": []
          },
          "execution_count": 55
        }
      ]
    },
    {
      "cell_type": "code",
      "metadata": {
        "id": "kN9xsdBZdhwG",
        "colab_type": "code",
        "colab": {},
        "outputId": "da73b1d7-69cf-4e1e-a516-1cc4e7bb80dc"
      },
      "source": [
        "x[mask]"
      ],
      "execution_count": 0,
      "outputs": [
        {
          "output_type": "execute_result",
          "data": {
            "text/plain": [
              "array([5.5, 6. , 6.5, 7. ])"
            ]
          },
          "metadata": {
            "tags": []
          },
          "execution_count": 56
        }
      ]
    },
    {
      "cell_type": "markdown",
      "metadata": {
        "id": "hdJuzoXrdhwJ",
        "colab_type": "text"
      },
      "source": [
        "## Linear algebra"
      ]
    },
    {
      "cell_type": "markdown",
      "metadata": {
        "id": "Hg1d4IqwdhwK",
        "colab_type": "text"
      },
      "source": [
        "Vectorizing code is the key to writing efficient numerical calculation with Python/Numpy. That means that as much as possible of a program should be formulated in terms of matrix and vector operations, like matrix-matrix multiplication."
      ]
    },
    {
      "cell_type": "markdown",
      "metadata": {
        "id": "tCJJIZ9gdhwK",
        "colab_type": "text"
      },
      "source": [
        "### Scalar-array operations"
      ]
    },
    {
      "cell_type": "markdown",
      "metadata": {
        "id": "BNsgf4tfdhwK",
        "colab_type": "text"
      },
      "source": [
        "We can use the usual arithmetic operators to multiply, add, subtract, and divide arrays with scalar numbers."
      ]
    },
    {
      "cell_type": "code",
      "metadata": {
        "id": "akqyKpSOdhwL",
        "colab_type": "code",
        "colab": {}
      },
      "source": [
        "v1 = arange(0, 5)"
      ],
      "execution_count": 0,
      "outputs": []
    },
    {
      "cell_type": "code",
      "metadata": {
        "id": "Qxv7S6JbdhwN",
        "colab_type": "code",
        "colab": {},
        "outputId": "99842510-ea28-4eaf-cc30-44bf1e3d2207"
      },
      "source": [
        "v1 * 2"
      ],
      "execution_count": 0,
      "outputs": [
        {
          "output_type": "execute_result",
          "data": {
            "text/plain": [
              "array([0, 2, 4, 6, 8])"
            ]
          },
          "metadata": {
            "tags": []
          },
          "execution_count": 58
        }
      ]
    },
    {
      "cell_type": "code",
      "metadata": {
        "id": "ZqWovOy8dhwP",
        "colab_type": "code",
        "colab": {},
        "outputId": "f88c4c97-6190-4de1-b58b-eaa41d29414a"
      },
      "source": [
        "v1 + 2"
      ],
      "execution_count": 0,
      "outputs": [
        {
          "output_type": "execute_result",
          "data": {
            "text/plain": [
              "array([2, 3, 4, 5, 6])"
            ]
          },
          "metadata": {
            "tags": []
          },
          "execution_count": 59
        }
      ]
    },
    {
      "cell_type": "code",
      "metadata": {
        "id": "EsyXLgVbdhwS",
        "colab_type": "code",
        "colab": {},
        "outputId": "c1fe7fe8-bd9f-4ee7-cf64-f60110a7a080"
      },
      "source": [
        "A * 2, A + 2"
      ],
      "execution_count": 0,
      "outputs": [
        {
          "output_type": "execute_result",
          "data": {
            "text/plain": [
              "(array([[ 0,  2,  4,  6,  8],\n",
              "        [20, 22, 24, 26, 28],\n",
              "        [40, 42, 44, 46, 48],\n",
              "        [60, 62, 64, 66, 68],\n",
              "        [80, 82, 84, 86, 88]]), array([[ 2,  3,  4,  5,  6],\n",
              "        [12, 13, 14, 15, 16],\n",
              "        [22, 23, 24, 25, 26],\n",
              "        [32, 33, 34, 35, 36],\n",
              "        [42, 43, 44, 45, 46]]))"
            ]
          },
          "metadata": {
            "tags": []
          },
          "execution_count": 60
        }
      ]
    },
    {
      "cell_type": "markdown",
      "metadata": {
        "id": "6qDmo2pcdhwV",
        "colab_type": "text"
      },
      "source": [
        "### Element-wise array-array operations"
      ]
    },
    {
      "cell_type": "markdown",
      "metadata": {
        "id": "kchMTchKdhwW",
        "colab_type": "text"
      },
      "source": [
        "When we add, subtract, multiply and divide arrays with each other, the default behaviour is **element-wise** operations:"
      ]
    },
    {
      "cell_type": "code",
      "metadata": {
        "id": "vC_PtoKHdhwX",
        "colab_type": "code",
        "colab": {},
        "outputId": "d3b51c03-d19c-4600-d6b0-8db46571d093"
      },
      "source": [
        "A * A # element-wise multiplication"
      ],
      "execution_count": 0,
      "outputs": [
        {
          "output_type": "execute_result",
          "data": {
            "text/plain": [
              "array([[   0,    1,    4,    9,   16],\n",
              "       [ 100,  121,  144,  169,  196],\n",
              "       [ 400,  441,  484,  529,  576],\n",
              "       [ 900,  961, 1024, 1089, 1156],\n",
              "       [1600, 1681, 1764, 1849, 1936]])"
            ]
          },
          "metadata": {
            "tags": []
          },
          "execution_count": 61
        }
      ]
    },
    {
      "cell_type": "code",
      "metadata": {
        "id": "EUjaFre7dhwZ",
        "colab_type": "code",
        "colab": {},
        "outputId": "db3a906d-d9e9-4daa-f87a-54f6de72d901"
      },
      "source": [
        "v1 * v1"
      ],
      "execution_count": 0,
      "outputs": [
        {
          "output_type": "execute_result",
          "data": {
            "text/plain": [
              "array([ 0,  1,  4,  9, 16])"
            ]
          },
          "metadata": {
            "tags": []
          },
          "execution_count": 62
        }
      ]
    },
    {
      "cell_type": "markdown",
      "metadata": {
        "id": "yagczb73dhwb",
        "colab_type": "text"
      },
      "source": [
        "If we multiply arrays with compatible shapes, we get an element-wise multiplication of each row:"
      ]
    },
    {
      "cell_type": "code",
      "metadata": {
        "id": "IITeANMGdhwb",
        "colab_type": "code",
        "colab": {},
        "outputId": "eb296f22-9ef1-4373-e4fc-12883f893a8d"
      },
      "source": [
        "A.shape, v1.shape"
      ],
      "execution_count": 0,
      "outputs": [
        {
          "output_type": "execute_result",
          "data": {
            "text/plain": [
              "((5, 5), (5,))"
            ]
          },
          "metadata": {
            "tags": []
          },
          "execution_count": 63
        }
      ]
    },
    {
      "cell_type": "code",
      "metadata": {
        "id": "kSa08HJDdhwf",
        "colab_type": "code",
        "colab": {},
        "outputId": "0a26a8c7-8010-4d51-a5f7-eadef641d37f"
      },
      "source": [
        "A * v1"
      ],
      "execution_count": 0,
      "outputs": [
        {
          "output_type": "execute_result",
          "data": {
            "text/plain": [
              "array([[  0,   1,   4,   9,  16],\n",
              "       [  0,  11,  24,  39,  56],\n",
              "       [  0,  21,  44,  69,  96],\n",
              "       [  0,  31,  64,  99, 136],\n",
              "       [  0,  41,  84, 129, 176]])"
            ]
          },
          "metadata": {
            "tags": []
          },
          "execution_count": 64
        }
      ]
    },
    {
      "cell_type": "markdown",
      "metadata": {
        "id": "5fEVJDPQdhwl",
        "colab_type": "text"
      },
      "source": [
        "### Matrix algebra"
      ]
    },
    {
      "cell_type": "markdown",
      "metadata": {
        "id": "H_RMlEcQdhwm",
        "colab_type": "text"
      },
      "source": [
        "What about matrix mutiplication? There are two ways. We can either use the `dot` function, which applies a matrix-matrix, matrix-vector, or inner vector multiplication to its two arguments: "
      ]
    },
    {
      "cell_type": "code",
      "metadata": {
        "id": "f2KeU4dddhwo",
        "colab_type": "code",
        "colab": {},
        "outputId": "adde542d-b584-4d3b-d519-45ca5bfc980a"
      },
      "source": [
        "dot(A, A)"
      ],
      "execution_count": 0,
      "outputs": [
        {
          "output_type": "execute_result",
          "data": {
            "text/plain": [
              "array([[ 300,  310,  320,  330,  340],\n",
              "       [1300, 1360, 1420, 1480, 1540],\n",
              "       [2300, 2410, 2520, 2630, 2740],\n",
              "       [3300, 3460, 3620, 3780, 3940],\n",
              "       [4300, 4510, 4720, 4930, 5140]])"
            ]
          },
          "metadata": {
            "tags": []
          },
          "execution_count": 65
        }
      ]
    },
    {
      "cell_type": "code",
      "metadata": {
        "id": "CwvDE1G2dhwr",
        "colab_type": "code",
        "colab": {},
        "outputId": "3fb521ce-3b86-4882-cfb7-ecdfff910d87"
      },
      "source": [
        "dot(A, v1)"
      ],
      "execution_count": 0,
      "outputs": [
        {
          "output_type": "execute_result",
          "data": {
            "text/plain": [
              "array([ 30, 130, 230, 330, 430])"
            ]
          },
          "metadata": {
            "tags": []
          },
          "execution_count": 66
        }
      ]
    },
    {
      "cell_type": "code",
      "metadata": {
        "id": "2-HAklf4dhws",
        "colab_type": "code",
        "colab": {},
        "outputId": "db4f4818-bc68-46e2-99ac-283b655b3c2b"
      },
      "source": [
        "dot(v1, v1)"
      ],
      "execution_count": 0,
      "outputs": [
        {
          "output_type": "execute_result",
          "data": {
            "text/plain": [
              "30"
            ]
          },
          "metadata": {
            "tags": []
          },
          "execution_count": 67
        }
      ]
    },
    {
      "cell_type": "markdown",
      "metadata": {
        "id": "rFOAHwWjdhwu",
        "colab_type": "text"
      },
      "source": [
        "Alternatively, we can cast the array objects to the type `matrix`. This changes the behavior of the standard arithmetic operators `+, -, *` to use matrix algebra."
      ]
    },
    {
      "cell_type": "code",
      "metadata": {
        "id": "Zi5FNiztdhwu",
        "colab_type": "code",
        "colab": {}
      },
      "source": [
        "M = matrix(A)\n",
        "v = matrix(v1).T # make it a column vector"
      ],
      "execution_count": 0,
      "outputs": []
    },
    {
      "cell_type": "code",
      "metadata": {
        "id": "jXQpAsKEdhww",
        "colab_type": "code",
        "colab": {},
        "outputId": "9562cb9b-d790-4fcd-c517-6b4d5de296a1"
      },
      "source": [
        "v"
      ],
      "execution_count": 0,
      "outputs": [
        {
          "output_type": "execute_result",
          "data": {
            "text/plain": [
              "matrix([[0],\n",
              "        [1],\n",
              "        [2],\n",
              "        [3],\n",
              "        [4]])"
            ]
          },
          "metadata": {
            "tags": []
          },
          "execution_count": 69
        }
      ]
    },
    {
      "cell_type": "code",
      "metadata": {
        "id": "p9CWsOjadhwx",
        "colab_type": "code",
        "colab": {},
        "outputId": "73c1ad63-2dc2-431d-bf4f-0609b4479c73"
      },
      "source": [
        "M * M"
      ],
      "execution_count": 0,
      "outputs": [
        {
          "output_type": "execute_result",
          "data": {
            "text/plain": [
              "matrix([[ 300,  310,  320,  330,  340],\n",
              "        [1300, 1360, 1420, 1480, 1540],\n",
              "        [2300, 2410, 2520, 2630, 2740],\n",
              "        [3300, 3460, 3620, 3780, 3940],\n",
              "        [4300, 4510, 4720, 4930, 5140]])"
            ]
          },
          "metadata": {
            "tags": []
          },
          "execution_count": 70
        }
      ]
    },
    {
      "cell_type": "code",
      "metadata": {
        "id": "6gTjF7g6dhwz",
        "colab_type": "code",
        "colab": {},
        "outputId": "30f6badf-8ae2-4d37-8783-df014fffb3e2"
      },
      "source": [
        "M * v"
      ],
      "execution_count": 0,
      "outputs": [
        {
          "output_type": "execute_result",
          "data": {
            "text/plain": [
              "matrix([[ 30],\n",
              "        [130],\n",
              "        [230],\n",
              "        [330],\n",
              "        [430]])"
            ]
          },
          "metadata": {
            "tags": []
          },
          "execution_count": 71
        }
      ]
    },
    {
      "cell_type": "code",
      "metadata": {
        "id": "84hAMxoedhw2",
        "colab_type": "code",
        "colab": {},
        "outputId": "13611d58-742f-42db-f07f-f261bb1b3a59"
      },
      "source": [
        "# inner product\n",
        "v.T * v"
      ],
      "execution_count": 0,
      "outputs": [
        {
          "output_type": "execute_result",
          "data": {
            "text/plain": [
              "matrix([[30]])"
            ]
          },
          "metadata": {
            "tags": []
          },
          "execution_count": 72
        }
      ]
    },
    {
      "cell_type": "code",
      "metadata": {
        "id": "clwaRDVzdhw4",
        "colab_type": "code",
        "colab": {},
        "outputId": "837b968e-0edf-4902-f852-d8a9f4fbd50d"
      },
      "source": [
        "# with matrix objects, standard matrix algebra applies\n",
        "v + M*v"
      ],
      "execution_count": 0,
      "outputs": [
        {
          "output_type": "execute_result",
          "data": {
            "text/plain": [
              "matrix([[ 30],\n",
              "        [131],\n",
              "        [232],\n",
              "        [333],\n",
              "        [434]])"
            ]
          },
          "metadata": {
            "tags": []
          },
          "execution_count": 73
        }
      ]
    },
    {
      "cell_type": "markdown",
      "metadata": {
        "id": "t1dpiLZudhw7",
        "colab_type": "text"
      },
      "source": [
        "If we try to add, subtract or multiply objects with incomplatible shapes we get an error:"
      ]
    },
    {
      "cell_type": "code",
      "metadata": {
        "id": "ZwD6DAIldhw7",
        "colab_type": "code",
        "colab": {}
      },
      "source": [
        "v = matrix([1,2,3,4,5,6]).T"
      ],
      "execution_count": 0,
      "outputs": []
    },
    {
      "cell_type": "code",
      "metadata": {
        "id": "JT08VH0hdhw-",
        "colab_type": "code",
        "colab": {},
        "outputId": "6506ddb5-5ed4-4701-cdb0-28b14c35169f"
      },
      "source": [
        "shape(M), shape(v)"
      ],
      "execution_count": 0,
      "outputs": [
        {
          "output_type": "execute_result",
          "data": {
            "text/plain": [
              "((5, 5), (6, 1))"
            ]
          },
          "metadata": {
            "tags": []
          },
          "execution_count": 75
        }
      ]
    },
    {
      "cell_type": "code",
      "metadata": {
        "id": "r0JtHB6ddhxB",
        "colab_type": "code",
        "colab": {},
        "outputId": "015e2a65-7b28-4008-a997-7578fbd7ae4e"
      },
      "source": [
        "M * v"
      ],
      "execution_count": 0,
      "outputs": [
        {
          "output_type": "error",
          "ename": "ValueError",
          "evalue": "shapes (5,5) and (6,1) not aligned: 5 (dim 1) != 6 (dim 0)",
          "traceback": [
            "\u001b[0;31m---------------------------------------------------------------------------\u001b[0m",
            "\u001b[0;31mValueError\u001b[0m                                Traceback (most recent call last)",
            "\u001b[0;32m<ipython-input-76-e8f88679fe45>\u001b[0m in \u001b[0;36m<module>\u001b[0;34m\u001b[0m\n\u001b[0;32m----> 1\u001b[0;31m \u001b[0mM\u001b[0m \u001b[0;34m*\u001b[0m \u001b[0mv\u001b[0m\u001b[0;34m\u001b[0m\u001b[0;34m\u001b[0m\u001b[0m\n\u001b[0m",
            "\u001b[0;32m/usr/lib64/python3.7/site-packages/numpy/matrixlib/defmatrix.py\u001b[0m in \u001b[0;36m__mul__\u001b[0;34m(self, other)\u001b[0m\n\u001b[1;32m    218\u001b[0m         \u001b[0;32mif\u001b[0m \u001b[0misinstance\u001b[0m\u001b[0;34m(\u001b[0m\u001b[0mother\u001b[0m\u001b[0;34m,\u001b[0m \u001b[0;34m(\u001b[0m\u001b[0mN\u001b[0m\u001b[0;34m.\u001b[0m\u001b[0mndarray\u001b[0m\u001b[0;34m,\u001b[0m \u001b[0mlist\u001b[0m\u001b[0;34m,\u001b[0m \u001b[0mtuple\u001b[0m\u001b[0;34m)\u001b[0m\u001b[0;34m)\u001b[0m \u001b[0;34m:\u001b[0m\u001b[0;34m\u001b[0m\u001b[0;34m\u001b[0m\u001b[0m\n\u001b[1;32m    219\u001b[0m             \u001b[0;31m# This promotes 1-D vectors to row vectors\u001b[0m\u001b[0;34m\u001b[0m\u001b[0;34m\u001b[0m\u001b[0;34m\u001b[0m\u001b[0m\n\u001b[0;32m--> 220\u001b[0;31m             \u001b[0;32mreturn\u001b[0m \u001b[0mN\u001b[0m\u001b[0;34m.\u001b[0m\u001b[0mdot\u001b[0m\u001b[0;34m(\u001b[0m\u001b[0mself\u001b[0m\u001b[0;34m,\u001b[0m \u001b[0masmatrix\u001b[0m\u001b[0;34m(\u001b[0m\u001b[0mother\u001b[0m\u001b[0;34m)\u001b[0m\u001b[0;34m)\u001b[0m\u001b[0;34m\u001b[0m\u001b[0;34m\u001b[0m\u001b[0m\n\u001b[0m\u001b[1;32m    221\u001b[0m         \u001b[0;32mif\u001b[0m \u001b[0misscalar\u001b[0m\u001b[0;34m(\u001b[0m\u001b[0mother\u001b[0m\u001b[0;34m)\u001b[0m \u001b[0;32mor\u001b[0m \u001b[0;32mnot\u001b[0m \u001b[0mhasattr\u001b[0m\u001b[0;34m(\u001b[0m\u001b[0mother\u001b[0m\u001b[0;34m,\u001b[0m \u001b[0;34m'__rmul__'\u001b[0m\u001b[0;34m)\u001b[0m \u001b[0;34m:\u001b[0m\u001b[0;34m\u001b[0m\u001b[0;34m\u001b[0m\u001b[0m\n\u001b[1;32m    222\u001b[0m             \u001b[0;32mreturn\u001b[0m \u001b[0mN\u001b[0m\u001b[0;34m.\u001b[0m\u001b[0mdot\u001b[0m\u001b[0;34m(\u001b[0m\u001b[0mself\u001b[0m\u001b[0;34m,\u001b[0m \u001b[0mother\u001b[0m\u001b[0;34m)\u001b[0m\u001b[0;34m\u001b[0m\u001b[0;34m\u001b[0m\u001b[0m\n",
            "\u001b[0;32m<__array_function__ internals>\u001b[0m in \u001b[0;36mdot\u001b[0;34m(*args, **kwargs)\u001b[0m\n",
            "\u001b[0;31mValueError\u001b[0m: shapes (5,5) and (6,1) not aligned: 5 (dim 1) != 6 (dim 0)"
          ]
        }
      ]
    },
    {
      "cell_type": "markdown",
      "metadata": {
        "id": "vvdXwQ-FdhxJ",
        "colab_type": "text"
      },
      "source": [
        "See also the related functions: `inner`, `outer`, `cross`, `kron`, `tensordot`. Try for example `help(kron)`."
      ]
    },
    {
      "cell_type": "markdown",
      "metadata": {
        "id": "9a8D9aUTdhxK",
        "colab_type": "text"
      },
      "source": [
        "### Array/Matrix transformations"
      ]
    },
    {
      "cell_type": "markdown",
      "metadata": {
        "id": "2b02AEOsdhxK",
        "colab_type": "text"
      },
      "source": [
        "Above we have used the `.T` to transpose the matrix object `v`. We could also have used the `transpose` function to accomplish the same thing. \n",
        "\n",
        "Other mathematical functions that transform matrix objects are:"
      ]
    },
    {
      "cell_type": "code",
      "metadata": {
        "id": "_hzezP2KdhxL",
        "colab_type": "code",
        "colab": {},
        "outputId": "c976ec47-d6e2-458f-9ea9-f87cef79e83c"
      },
      "source": [
        "C = matrix([[1j, 2j], [3j, 4j]])\n",
        "C"
      ],
      "execution_count": 0,
      "outputs": [
        {
          "output_type": "execute_result",
          "data": {
            "text/plain": [
              "matrix([[0.+1.j, 0.+2.j],\n",
              "        [0.+3.j, 0.+4.j]])"
            ]
          },
          "metadata": {
            "tags": []
          },
          "execution_count": 77
        }
      ]
    },
    {
      "cell_type": "code",
      "metadata": {
        "id": "GOUSZnnudhxP",
        "colab_type": "code",
        "colab": {},
        "outputId": "18420ae8-d0f0-4ca5-b320-c9f23a5d8bdf"
      },
      "source": [
        "conjugate(C)"
      ],
      "execution_count": 0,
      "outputs": [
        {
          "output_type": "execute_result",
          "data": {
            "text/plain": [
              "matrix([[0.-1.j, 0.-2.j],\n",
              "        [0.-3.j, 0.-4.j]])"
            ]
          },
          "metadata": {
            "tags": []
          },
          "execution_count": 78
        }
      ]
    },
    {
      "cell_type": "markdown",
      "metadata": {
        "id": "XupiU-TidhxR",
        "colab_type": "text"
      },
      "source": [
        "Hermitian conjugate: transpose + conjugate"
      ]
    },
    {
      "cell_type": "code",
      "metadata": {
        "id": "a08VYxdldhxS",
        "colab_type": "code",
        "colab": {},
        "outputId": "30710566-b57d-4b69-c26d-bfd088d50da0"
      },
      "source": [
        "C.H"
      ],
      "execution_count": 0,
      "outputs": [
        {
          "output_type": "execute_result",
          "data": {
            "text/plain": [
              "matrix([[0.-1.j, 0.-3.j],\n",
              "        [0.-2.j, 0.-4.j]])"
            ]
          },
          "metadata": {
            "tags": []
          },
          "execution_count": 79
        }
      ]
    },
    {
      "cell_type": "markdown",
      "metadata": {
        "id": "8_iCi4_vdhxU",
        "colab_type": "text"
      },
      "source": [
        "We can extract the real and imaginary parts of complex-valued arrays using `real` and `imag`:"
      ]
    },
    {
      "cell_type": "code",
      "metadata": {
        "id": "p67nmxv8dhxU",
        "colab_type": "code",
        "colab": {},
        "outputId": "d5d0dfab-3f8f-4c4c-b9f6-d743d38bdb58"
      },
      "source": [
        "real(C) # same as: C.real"
      ],
      "execution_count": 0,
      "outputs": [
        {
          "output_type": "execute_result",
          "data": {
            "text/plain": [
              "matrix([[0., 0.],\n",
              "        [0., 0.]])"
            ]
          },
          "metadata": {
            "tags": []
          },
          "execution_count": 80
        }
      ]
    },
    {
      "cell_type": "code",
      "metadata": {
        "id": "E-eLJCfzdhxY",
        "colab_type": "code",
        "colab": {},
        "outputId": "110fb35a-ea4b-4bbd-8cfd-d3713a3053c1"
      },
      "source": [
        "imag(C) # same as: C.imag"
      ],
      "execution_count": 0,
      "outputs": [
        {
          "output_type": "execute_result",
          "data": {
            "text/plain": [
              "matrix([[1., 2.],\n",
              "        [3., 4.]])"
            ]
          },
          "metadata": {
            "tags": []
          },
          "execution_count": 81
        }
      ]
    },
    {
      "cell_type": "markdown",
      "metadata": {
        "id": "HwK3XCtGdhxZ",
        "colab_type": "text"
      },
      "source": [
        "Or the complex argument and absolute value"
      ]
    },
    {
      "cell_type": "code",
      "metadata": {
        "id": "aXqhQpJLdhxa",
        "colab_type": "code",
        "colab": {},
        "outputId": "7ea76ec0-1a2e-47f5-d770-dae74c01fb85"
      },
      "source": [
        "angle(C+1) # heads up MATLAB Users, angle is used instead of arg"
      ],
      "execution_count": 0,
      "outputs": [
        {
          "output_type": "execute_result",
          "data": {
            "text/plain": [
              "matrix([[0.78539816, 1.10714872],\n",
              "        [1.24904577, 1.32581766]])"
            ]
          },
          "metadata": {
            "tags": []
          },
          "execution_count": 82
        }
      ]
    },
    {
      "cell_type": "code",
      "metadata": {
        "id": "-ga0Q04Qdhxb",
        "colab_type": "code",
        "colab": {},
        "outputId": "aa24e458-5f56-42f3-ef6c-e9acc012de46"
      },
      "source": [
        "abs(C)"
      ],
      "execution_count": 0,
      "outputs": [
        {
          "output_type": "execute_result",
          "data": {
            "text/plain": [
              "matrix([[1., 2.],\n",
              "        [3., 4.]])"
            ]
          },
          "metadata": {
            "tags": []
          },
          "execution_count": 83
        }
      ]
    },
    {
      "cell_type": "markdown",
      "metadata": {
        "id": "R3q09WKzdhxe",
        "colab_type": "text"
      },
      "source": [
        "### Matrix computations"
      ]
    },
    {
      "cell_type": "markdown",
      "metadata": {
        "id": "DbjQx2_kdhxe",
        "colab_type": "text"
      },
      "source": [
        "#### Inverse"
      ]
    },
    {
      "cell_type": "code",
      "metadata": {
        "id": "ASzpwz6jdhxf",
        "colab_type": "code",
        "colab": {},
        "outputId": "b3671e6f-858c-4cd2-9211-1b933a44d668"
      },
      "source": [
        "linalg.inv(C) # equivalent to C.I "
      ],
      "execution_count": 0,
      "outputs": [
        {
          "output_type": "execute_result",
          "data": {
            "text/plain": [
              "matrix([[0.+2.j , 0.-1.j ],\n",
              "        [0.-1.5j, 0.+0.5j]])"
            ]
          },
          "metadata": {
            "tags": []
          },
          "execution_count": 84
        }
      ]
    },
    {
      "cell_type": "code",
      "metadata": {
        "id": "KcI_hwSWdhxj",
        "colab_type": "code",
        "colab": {},
        "outputId": "908405d9-c25f-4b5e-9043-16dc185aad5f"
      },
      "source": [
        "C.I * C"
      ],
      "execution_count": 0,
      "outputs": [
        {
          "output_type": "execute_result",
          "data": {
            "text/plain": [
              "matrix([[1.00000000e+00+0.j, 0.00000000e+00+0.j],\n",
              "        [1.11022302e-16+0.j, 1.00000000e+00+0.j]])"
            ]
          },
          "metadata": {
            "tags": []
          },
          "execution_count": 85
        }
      ]
    },
    {
      "cell_type": "markdown",
      "metadata": {
        "id": "FEDcpia2dhxm",
        "colab_type": "text"
      },
      "source": [
        "#### Determinant"
      ]
    },
    {
      "cell_type": "code",
      "metadata": {
        "id": "F077co1bdhxm",
        "colab_type": "code",
        "colab": {},
        "outputId": "0ab359c0-9d26-42aa-beb1-ec1e44e1289e"
      },
      "source": [
        "linalg.det(C)"
      ],
      "execution_count": 0,
      "outputs": [
        {
          "output_type": "execute_result",
          "data": {
            "text/plain": [
              "(2.0000000000000004+0j)"
            ]
          },
          "metadata": {
            "tags": []
          },
          "execution_count": 86
        }
      ]
    },
    {
      "cell_type": "code",
      "metadata": {
        "id": "1iWLGqMAdhxo",
        "colab_type": "code",
        "colab": {},
        "outputId": "aee2e2fb-8596-4e99-df3c-48d511f69fe1"
      },
      "source": [
        "linalg.det(C.I)"
      ],
      "execution_count": 0,
      "outputs": [
        {
          "output_type": "execute_result",
          "data": {
            "text/plain": [
              "(0.49999999999999967+0j)"
            ]
          },
          "metadata": {
            "tags": []
          },
          "execution_count": 87
        }
      ]
    },
    {
      "cell_type": "markdown",
      "metadata": {
        "id": "tBSNpbP_dhxr",
        "colab_type": "text"
      },
      "source": [
        "### Data processing"
      ]
    },
    {
      "cell_type": "markdown",
      "metadata": {
        "id": "niy6zSdpdhxu",
        "colab_type": "text"
      },
      "source": [
        "Often it is useful to store datasets in Numpy arrays. Numpy provides a number of functions to calculate statistics of datasets in arrays. \n",
        "\n",
        "For example, let's calculate some properties from the Stockholm temperature dataset."
      ]
    },
    {
      "cell_type": "code",
      "metadata": {
        "id": "3wobsyOWdhxu",
        "colab_type": "code",
        "colab": {},
        "outputId": "28d6bc20-d7ea-4d43-db26-c9d8fd0a3975"
      },
      "source": [
        "!head stockholm_td_adj.dat"
      ],
      "execution_count": 0,
      "outputs": [
        {
          "output_type": "stream",
          "text": [
            "1800  1  1    -6.1    -6.1    -6.1 1\r\n",
            "1800  1  2   -15.4   -15.4   -15.4 1\r\n",
            "1800  1  3   -15.0   -15.0   -15.0 1\r\n",
            "1800  1  4   -19.3   -19.3   -19.3 1\r\n",
            "1800  1  5   -16.8   -16.8   -16.8 1\r\n",
            "1800  1  6   -11.4   -11.4   -11.4 1\r\n",
            "1800  1  7    -7.6    -7.6    -7.6 1\r\n",
            "1800  1  8    -7.1    -7.1    -7.1 1\r\n",
            "1800  1  9   -10.1   -10.1   -10.1 1\r\n",
            "1800  1 10    -9.5    -9.5    -9.5 1\r\n"
          ],
          "name": "stdout"
        }
      ]
    },
    {
      "cell_type": "code",
      "metadata": {
        "id": "ttBzPJDydhxw",
        "colab_type": "code",
        "colab": {}
      },
      "source": [
        "data = genfromtxt('stockholm_td_adj.dat')"
      ],
      "execution_count": 0,
      "outputs": []
    },
    {
      "cell_type": "code",
      "metadata": {
        "id": "5zjCswSBdhxx",
        "colab_type": "code",
        "colab": {},
        "outputId": "4d1a6ea1-e900-4f66-d584-015cdae092d5"
      },
      "source": [
        "# reminder, the tempeature dataset is stored in the data variable:\n",
        "shape(data)"
      ],
      "execution_count": 0,
      "outputs": [
        {
          "output_type": "execute_result",
          "data": {
            "text/plain": [
              "(77431, 7)"
            ]
          },
          "metadata": {
            "tags": []
          },
          "execution_count": 102
        }
      ]
    },
    {
      "cell_type": "code",
      "metadata": {
        "id": "AmL0PC7gdhxy",
        "colab_type": "code",
        "colab": {},
        "outputId": "cd7612fe-386b-4639-b910-ff6c10606d50"
      },
      "source": [
        "fig, ax = plt.subplots(figsize=(14,4))\n",
        "ax.plot(data[:,0]+data[:,1]/12.0+data[:,2]/365, data[:,5])\n",
        "ax.axis('tight')\n",
        "ax.set_title('tempeatures in Stockholm')\n",
        "ax.set_xlabel('year')\n",
        "ax.set_ylabel('temperature (C)');"
      ],
      "execution_count": 0,
      "outputs": [
        {
          "output_type": "display_data",
          "data": {
            "image/png": "[encoded data removed]",
            "text/plain": [
              "<Figure size 1008x288 with 1 Axes>"
            ]
          },
          "metadata": {
            "tags": [],
            "needs_background": "light"
          }
        }
      ]
    },
    {
      "cell_type": "markdown",
      "metadata": {
        "id": "huRUhsksdhx0",
        "colab_type": "text"
      },
      "source": [
        "#### mean"
      ]
    },
    {
      "cell_type": "code",
      "metadata": {
        "id": "WQH6-abMdhx0",
        "colab_type": "code",
        "colab": {},
        "outputId": "cc1283c8-320b-4540-aeaf-679d0bc3e28f"
      },
      "source": [
        "# the temperature data is in column 3\n",
        "mean(data[:,3])"
      ],
      "execution_count": 0,
      "outputs": [
        {
          "output_type": "execute_result",
          "data": {
            "text/plain": [
              "6.197109684751585"
            ]
          },
          "metadata": {
            "tags": []
          },
          "execution_count": 103
        }
      ]
    },
    {
      "cell_type": "markdown",
      "metadata": {
        "id": "CT3Jof0Edhx2",
        "colab_type": "text"
      },
      "source": [
        "The daily mean temperature in Stockholm over the last 200 years has been about 6.2 C."
      ]
    },
    {
      "cell_type": "markdown",
      "metadata": {
        "id": "NvM42qqedhx2",
        "colab_type": "text"
      },
      "source": [
        "#### standard deviations and variance"
      ]
    },
    {
      "cell_type": "code",
      "metadata": {
        "id": "eIHkK0Dxdhx3",
        "colab_type": "code",
        "colab": {},
        "outputId": "c26bf2cd-f287-4307-bdda-68d611cef9ce"
      },
      "source": [
        "std(data[:,3]), var(data[:,3])"
      ],
      "execution_count": 0,
      "outputs": [
        {
          "output_type": "execute_result",
          "data": {
            "text/plain": [
              "(8.282271621340573, 68.59602320966341)"
            ]
          },
          "metadata": {
            "tags": []
          },
          "execution_count": 104
        }
      ]
    },
    {
      "cell_type": "markdown",
      "metadata": {
        "id": "A8Glk7PFdhx6",
        "colab_type": "text"
      },
      "source": [
        "#### min and max"
      ]
    },
    {
      "cell_type": "code",
      "metadata": {
        "id": "32xLx1JNdhx6",
        "colab_type": "code",
        "colab": {},
        "outputId": "85de701c-47e0-42fb-b3f0-8f6a8225b581"
      },
      "source": [
        "# lowest daily average temperature\n",
        "data[:,3].min()"
      ],
      "execution_count": 0,
      "outputs": [
        {
          "output_type": "execute_result",
          "data": {
            "text/plain": [
              "-25.8"
            ]
          },
          "metadata": {
            "tags": []
          },
          "execution_count": 105
        }
      ]
    },
    {
      "cell_type": "code",
      "metadata": {
        "id": "FLEsrhlkdhx_",
        "colab_type": "code",
        "colab": {},
        "outputId": "08aa3bca-8680-4e8d-b20f-f5a2a63c8ab7"
      },
      "source": [
        "# highest daily average temperature\n",
        "data[:,3].max()"
      ],
      "execution_count": 0,
      "outputs": [
        {
          "output_type": "execute_result",
          "data": {
            "text/plain": [
              "28.3"
            ]
          },
          "metadata": {
            "tags": []
          },
          "execution_count": 106
        }
      ]
    },
    {
      "cell_type": "markdown",
      "metadata": {
        "id": "Qt3W2tB2dhyB",
        "colab_type": "text"
      },
      "source": [
        "#### sum, prod, and trace"
      ]
    },
    {
      "cell_type": "code",
      "metadata": {
        "id": "0K6Y4p_YdhyC",
        "colab_type": "code",
        "colab": {},
        "outputId": "4e351955-a128-41e3-b71c-a569e2b35c34"
      },
      "source": [
        "d = arange(0, 10)\n",
        "d"
      ],
      "execution_count": 0,
      "outputs": [
        {
          "output_type": "execute_result",
          "data": {
            "text/plain": [
              "array([0, 1, 2, 3, 4, 5, 6, 7, 8, 9])"
            ]
          },
          "metadata": {
            "tags": []
          },
          "execution_count": 107
        }
      ]
    },
    {
      "cell_type": "code",
      "metadata": {
        "id": "RQpdeqtrdhyE",
        "colab_type": "code",
        "colab": {},
        "outputId": "ac1175ab-75ee-4a1b-c762-05740e24d0e5"
      },
      "source": [
        "# sum up all elements\n",
        "sum(d)"
      ],
      "execution_count": 0,
      "outputs": [
        {
          "output_type": "execute_result",
          "data": {
            "text/plain": [
              "45"
            ]
          },
          "metadata": {
            "tags": []
          },
          "execution_count": 108
        }
      ]
    },
    {
      "cell_type": "code",
      "metadata": {
        "id": "DB45xzTEdhyH",
        "colab_type": "code",
        "colab": {},
        "outputId": "2b214e6f-ae12-4c54-b2f1-921b84795ec1"
      },
      "source": [
        "# product of all elements\n",
        "prod(d+1)"
      ],
      "execution_count": 0,
      "outputs": [
        {
          "output_type": "execute_result",
          "data": {
            "text/plain": [
              "3628800"
            ]
          },
          "metadata": {
            "tags": []
          },
          "execution_count": 109
        }
      ]
    },
    {
      "cell_type": "code",
      "metadata": {
        "id": "yK5CeIqadhyJ",
        "colab_type": "code",
        "colab": {},
        "outputId": "cf30d7b2-a5c5-4582-95bd-e9797f1866cc"
      },
      "source": [
        "# cummulative sum\n",
        "cumsum(d)"
      ],
      "execution_count": 0,
      "outputs": [
        {
          "output_type": "execute_result",
          "data": {
            "text/plain": [
              "array([ 0,  1,  3,  6, 10, 15, 21, 28, 36, 45])"
            ]
          },
          "metadata": {
            "tags": []
          },
          "execution_count": 110
        }
      ]
    },
    {
      "cell_type": "code",
      "metadata": {
        "id": "1yZjPl1JdhyN",
        "colab_type": "code",
        "colab": {},
        "outputId": "2ccb2202-a8c5-4604-a8dc-86c231d5cdf7"
      },
      "source": [
        "# cummulative product\n",
        "cumprod(d+1)"
      ],
      "execution_count": 0,
      "outputs": [
        {
          "output_type": "execute_result",
          "data": {
            "text/plain": [
              "array([      1,       2,       6,      24,     120,     720,    5040,\n",
              "         40320,  362880, 3628800])"
            ]
          },
          "metadata": {
            "tags": []
          },
          "execution_count": 111
        }
      ]
    },
    {
      "cell_type": "code",
      "metadata": {
        "id": "3q0QoTlrdhyO",
        "colab_type": "code",
        "colab": {},
        "outputId": "6b6498ec-375e-4e7f-ef70-b244115322a6"
      },
      "source": [
        "# same as: diag(A).sum()\n",
        "trace(A)"
      ],
      "execution_count": 0,
      "outputs": [
        {
          "output_type": "execute_result",
          "data": {
            "text/plain": [
              "110"
            ]
          },
          "metadata": {
            "tags": []
          },
          "execution_count": 112
        }
      ]
    },
    {
      "cell_type": "markdown",
      "metadata": {
        "id": "VYgHoov3dhyR",
        "colab_type": "text"
      },
      "source": [
        "## Copy and \"deep copy\""
      ]
    },
    {
      "cell_type": "markdown",
      "metadata": {
        "id": "go5RGZkfdhyR",
        "colab_type": "text"
      },
      "source": [
        "To achieve high performance, assignments in Python usually do not copy the underlying objects. This is important for example when objects are passed between functions, to avoid an excessive amount of memory copying when it is not necessary (technical term: pass by reference). "
      ]
    },
    {
      "cell_type": "code",
      "metadata": {
        "id": "CtV6rwhSdhyZ",
        "colab_type": "code",
        "colab": {},
        "outputId": "5a49186f-110b-4893-dacf-487b261498e1"
      },
      "source": [
        "A = array([[1, 2], [3, 4]])\n",
        "\n",
        "A"
      ],
      "execution_count": 0,
      "outputs": [
        {
          "output_type": "execute_result",
          "data": {
            "text/plain": [
              "array([[1, 2],\n",
              "       [3, 4]])"
            ]
          },
          "metadata": {
            "tags": []
          },
          "execution_count": 113
        }
      ]
    },
    {
      "cell_type": "code",
      "metadata": {
        "id": "h7xdm8ifdhye",
        "colab_type": "code",
        "colab": {}
      },
      "source": [
        "# now B is referring to the same array data as A \n",
        "B = A "
      ],
      "execution_count": 0,
      "outputs": []
    },
    {
      "cell_type": "code",
      "metadata": {
        "id": "5lgtNKXHdhyg",
        "colab_type": "code",
        "colab": {},
        "outputId": "c729e2e6-555c-4810-cf15-0348d44f2e18"
      },
      "source": [
        "# changing B affects A\n",
        "B[0,0] = 10\n",
        "\n",
        "B"
      ],
      "execution_count": 0,
      "outputs": [
        {
          "output_type": "execute_result",
          "data": {
            "text/plain": [
              "array([[10,  2],\n",
              "       [ 3,  4]])"
            ]
          },
          "metadata": {
            "tags": []
          },
          "execution_count": 115
        }
      ]
    },
    {
      "cell_type": "code",
      "metadata": {
        "id": "BFKhwK0udhyi",
        "colab_type": "code",
        "colab": {},
        "outputId": "0385335f-cc47-45e1-a1ff-735ad635a0af"
      },
      "source": [
        "A"
      ],
      "execution_count": 0,
      "outputs": [
        {
          "output_type": "execute_result",
          "data": {
            "text/plain": [
              "array([[10,  2],\n",
              "       [ 3,  4]])"
            ]
          },
          "metadata": {
            "tags": []
          },
          "execution_count": 116
        }
      ]
    },
    {
      "cell_type": "markdown",
      "metadata": {
        "id": "aK463zpJdhyk",
        "colab_type": "text"
      },
      "source": [
        "If we want to avoid this behavior, so that when we get a new completely independent object `B` copied from `A`, then we need to do a so-called \"deep copy\" using the function `copy`:"
      ]
    },
    {
      "cell_type": "code",
      "metadata": {
        "id": "E8F9Pvt2dhyl",
        "colab_type": "code",
        "colab": {}
      },
      "source": [
        "B = copy(A)"
      ],
      "execution_count": 0,
      "outputs": []
    },
    {
      "cell_type": "code",
      "metadata": {
        "id": "xqfrFS2odhyn",
        "colab_type": "code",
        "colab": {}
      },
      "source": [
        "# now, if we modify B, A is not affected\n",
        "B[0,0] = -5\n",
        "\n",
        "B"
      ],
      "execution_count": 0,
      "outputs": []
    },
    {
      "cell_type": "code",
      "metadata": {
        "id": "Z2nxkY2ydhyo",
        "colab_type": "code",
        "colab": {}
      },
      "source": [
        "A"
      ],
      "execution_count": 0,
      "outputs": []
    },
    {
      "cell_type": "markdown",
      "metadata": {
        "id": "dP9tHm1Cdhyq",
        "colab_type": "text"
      },
      "source": [
        "## Further reading"
      ]
    },
    {
      "cell_type": "markdown",
      "metadata": {
        "id": "lA69RDyndhyq",
        "colab_type": "text"
      },
      "source": [
        "* http://numpy.scipy.org\n",
        "* http://scipy.org/Tentative_NumPy_Tutorial\n",
        "* http://scipy.org/NumPy_for_Matlab_Users - A Numpy guide for MATLAB users."
      ]
    },
    {
      "cell_type": "markdown",
      "metadata": {
        "id": "UibScbk7dhyr",
        "colab_type": "text"
      },
      "source": [
        "## Versions"
      ]
    },
    {
      "cell_type": "code",
      "metadata": {
        "id": "-NY7fLpvdhys",
        "colab_type": "code",
        "colab": {}
      },
      "source": [
        "%reload_ext version_information\n",
        "\n",
        "%version_information numpy"
      ],
      "execution_count": 0,
      "outputs": []
    }
  ]
}